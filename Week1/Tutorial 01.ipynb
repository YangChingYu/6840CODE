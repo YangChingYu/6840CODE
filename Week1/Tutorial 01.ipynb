{
 "cells": [
  {
   "cell_type": "markdown",
   "metadata": {},
   "source": [
    "<center><h1>QBUS6840 - Predictive Analytics </h1></center>\n",
    "\n",
    "# Tutorial 1 - Working with Time-Series\n",
    " \n",
    "### Objectives\n",
    "\n",
    "1. Get familiar with Dates and Times in Python\n",
    "2. Get familiar with Pandas Time Series indexing\n",
    "3. Learn concepts of plotting and visualization\n",
    "\n",
    "\n",
    "While Python provides a lot of general functionality, it does not provide any more specific functionalities for data manipulation and visualisation. Therefore, we must use external libraries to get this functionality.\n",
    "\n",
    "Fortunately, Anaconda pre-installs the relevant libraries for us. They are:\n",
    "- **Numpy** (mathematics and scientific functions)\n",
    "- **Pandas** (data manipulation)\n",
    "- **Matplotlib** (visualization)\n",
    "\n",
    "`Pandas` was developed in the context of financial modelling, so as you might expect, it contains a fairly extensive set of tools for working with dates, times, and time-indexed data.\n",
    "\n",
    "In this section, we will introduce how to work with each of these types of date/time data in Pandas. This short section is by no means a complete guide to the time series tools available in Python or Pandas, but instead is intended as a broad overview of how you as a user should approach working with time series. \n",
    "\n",
    "We will start with a brief discussion of the tools for dealing with dates and times in Python, provided by Pandas. After listing some resources that go into more depth, we will review some short examples of working with time series data in Pandas.\n",
    "\n",
    "## 1. Importing libraries\n",
    "Create a new Python script for this tutorial called ***tutorial_01.ipynb***. Start with the\n",
    "following code"
   ]
  },
  {
   "cell_type": "code",
   "execution_count": 1,
   "metadata": {},
   "outputs": [],
   "source": [
    "import pandas as pd\n",
    "import numpy as np\n",
    "import matplotlib.pyplot as plt"
   ]
  },
  {
   "cell_type": "markdown",
   "metadata": {},
   "source": [
    "The `import` keyword makes the pandas library available, which we can reference as the variable `pd`. We also import `numpy` and `matplotlib.pyplot` as `plt` and `np`, respectivly."
   ]
  },
  {
   "cell_type": "markdown",
   "metadata": {},
   "source": [
    "## 2. Dates and times in Native Python and Numpy\n",
    "Python's basic objects for working with dates and times reside in the built-in `datetime` module. Along with the third-party dateutil module, you can use it to quickly perform a host of useful functionalities on dates and times. For example, you\n",
    "can manually build a date using the datetime type:"
   ]
  },
  {
   "cell_type": "code",
   "execution_count": 2,
   "metadata": {},
   "outputs": [],
   "source": [
    "from datetime import datetime\n",
    "date = datetime(year=2022, month=2, day=21)"
   ]
  },
  {
   "cell_type": "markdown",
   "metadata": {},
   "source": [
    "Now can you check what type the variable date is by typing the following code:"
   ]
  },
  {
   "cell_type": "code",
   "execution_count": 3,
   "metadata": {},
   "outputs": [
    {
     "data": {
      "text/plain": [
       "datetime.datetime"
      ]
     },
     "execution_count": 3,
     "metadata": {},
     "output_type": "execute_result"
    }
   ],
   "source": [
    "type(date)"
   ]
  },
  {
   "cell_type": "markdown",
   "metadata": {},
   "source": [
    "This tells us that each variable in Python must have a type. Knowing the types of variables is very important in programming.\n",
    "\n",
    "Or, using the `dateutil` module, you can parse dates from a variety of string formats:"
   ]
  },
  {
   "cell_type": "code",
   "execution_count": 4,
   "metadata": {},
   "outputs": [],
   "source": [
    "from dateutil import parser\n",
    "date = parser.parse(\"21th of February, 2022\")"
   ]
  },
  {
   "cell_type": "markdown",
   "metadata": {},
   "source": [
    "As you can see, this method is much smarter. You don’t need tell Python which year, which month and which date. The parser gets understand the sequence of statement **\"21th of February, 2022\"**. Once you have a `datetime` object, you can do things like printing the day of the week:"
   ]
  },
  {
   "cell_type": "code",
   "execution_count": 5,
   "metadata": {},
   "outputs": [],
   "source": [
    "# date.strftime('%A')\n",
    "# date.strftime('%B')\n",
    "# date.strftime('%C')\n",
    "# date.strftime('%D')\n"
   ]
  },
  {
   "cell_type": "markdown",
   "metadata": {},
   "source": [
    "The weaknesses of Python's `datetime` format inspired the NumPy team to add a set of native time series data type to `NumPy`. The `datetime64` dtype encodes dates as **64-bit** integers, and thus allows arrays of dates to be represented compactly. The `datetime64` requires a very specific input format:"
   ]
  },
  {
   "cell_type": "code",
   "execution_count": 6,
   "metadata": {},
   "outputs": [],
   "source": [
    "date = np.array('2022-02-21', dtype=np.datetime64)"
   ]
  },
  {
   "cell_type": "markdown",
   "metadata": {},
   "source": [
    "<div style=\"margin-bottom: 0px;\"><img width=20 style=\"display: block; float: left;  margin-right: 20px;\" src=\"question-mark-button.png\"> <h3 style=\"padding-top: 0px;\">Question </h3></div>\n",
    "\n",
    "- What is the type of this variable `date`?\n",
    "\n",
    "Once we have this date formatted, however, we can quickly do vectorized operations on it:"
   ]
  },
  {
   "cell_type": "code",
   "execution_count": 7,
   "metadata": {},
   "outputs": [
    {
     "name": "stdout",
     "output_type": "stream",
     "text": [
      "['2022-02-21' '2022-02-22' '2022-02-23' '2022-02-24' '2022-02-25'\n",
      " '2022-02-26' '2022-02-27' '2022-02-28' '2022-03-01' '2022-03-02'\n",
      " '2022-03-03' '2022-03-04']\n"
     ]
    }
   ],
   "source": [
    "print(date + np.arange(12))"
   ]
  },
  {
   "cell_type": "markdown",
   "metadata": {},
   "source": [
    "As you can see, you can create a number of dates from a single date"
   ]
  },
  {
   "cell_type": "markdown",
   "metadata": {},
   "source": [
    "## 3. Dates and times in Pandas\n",
    "\n",
    "`Pandas` builds upon all the tools just discussed to provide `Timestamp` object, which combines the ease-of-use of `datetime` and `dateutil` with the efficient storage and vectorized interface of `numpy.datetime64`.\n",
    "\n",
    "From a group of these `Timestamp` objects, `Pandas` can construct a `DatetimeIndex` that can be used to index data in a `Series` or `DataFrame`; we'll see many examples of this below.\n",
    "\n",
    "For example, we can use `Pandas` to parse a flexibly formatted string date, and use format codes to output the day of the week:"
   ]
  },
  {
   "cell_type": "code",
   "execution_count": 8,
   "metadata": {},
   "outputs": [
    {
     "data": {
      "text/plain": [
       "'Monday'"
      ]
     },
     "execution_count": 8,
     "metadata": {},
     "output_type": "execute_result"
    }
   ],
   "source": [
    "date = pd.to_datetime(\"21th of February, 2022\")  \n",
    "date.strftime('%A')"
   ]
  },
  {
   "cell_type": "markdown",
   "metadata": {},
   "source": [
    "`pd.to_datetime` is a parser converting a piece of text to a `Timestamp` object. We can use `type()` function to check if the `date` variable is a `Timestamp` object."
   ]
  },
  {
   "cell_type": "code",
   "execution_count": 9,
   "metadata": {},
   "outputs": [
    {
     "data": {
      "text/plain": [
       "pandas._libs.tslibs.timestamps.Timestamp"
      ]
     },
     "execution_count": 9,
     "metadata": {},
     "output_type": "execute_result"
    }
   ],
   "source": [
    "type(date)"
   ]
  },
  {
   "cell_type": "markdown",
   "metadata": {},
   "source": [
    "**Note**: We can only call the `strftime()` function from a `Timestamp` object as `strftime()` is defined as a method of the `Timestamp` class. If you are not familiar with class and method concepts, just keep in mind that there are some functions are designed to work only with particular data types. In our example, `Timestamp` is a special data type. \n",
    "\n",
    "#### Question:\n",
    "- What is the meaning of `strftime` for a `datetime` variable?\n",
    "- What is the meaning of `'%A'`?\n",
    "\n",
    "<div style=\"margin-bottom: 0px;\"><img width=20 style=\"display: block; float: left;  margin-right: 20px;\" src=\"docs.png\"> <h3 style=\"padding-top: 0px;\">Documentation - strftime() and strptime() Behavior </h3></div>\n",
    "\n",
    "https://docs.python.org/2/library/datetime.html#strftime-strptime-behavior."
   ]
  },
  {
   "cell_type": "markdown",
   "metadata": {},
   "source": [
    "Additionally, we can do NumPy-style vectorized operations directly on this same object using `to_timedelta()` function."
   ]
  },
  {
   "cell_type": "code",
   "execution_count": 10,
   "metadata": {},
   "outputs": [
    {
     "data": {
      "text/plain": [
       "DatetimeIndex(['2022-02-21', '2022-02-22', '2022-02-23', '2022-02-24',\n",
       "               '2022-02-25', '2022-02-26', '2022-02-27', '2022-02-28',\n",
       "               '2022-03-01', '2022-03-02', '2022-03-03', '2022-03-04'],\n",
       "              dtype='datetime64[ns]', freq=None)"
      ]
     },
     "execution_count": 10,
     "metadata": {},
     "output_type": "execute_result"
    }
   ],
   "source": [
    "date + pd.to_timedelta(np.arange(12), 'D')"
   ]
  },
  {
   "cell_type": "markdown",
   "metadata": {},
   "source": [
    "In here, `'D'` represents **'Days'** which denotes the time unit. You can also try different units such as `'W'`, `'h'` , `'T'` and then compare the corresponding outputs.\n",
    "\n",
    "<div style=\"margin-bottom: 0px;\"><img width=20 style=\"display: block; float: left;  margin-right: 20px;\" src=\"docs.png\"> <h3 style=\"padding-top: 0px;\">Documentation - pandas.to_timedelta </h3></div>\n",
    "\n",
    "https://pandas.pydata.org/pandas-docs/stable/reference/api/pandas.to_timedelta.html"
   ]
  },
  {
   "cell_type": "markdown",
   "metadata": {},
   "source": [
    "## 4. Pandas Time Series: Indexing by Time\n",
    "\n",
    "`Series` is a **one-dimensional** `ndarray` data type in `Pandas`. `Series` is useful when we want to index data by `timestamps` indices. For example, first we create a `Series` object with 4 elements as:"
   ]
  },
  {
   "cell_type": "code",
   "execution_count": 11,
   "metadata": {},
   "outputs": [
    {
     "data": {
      "text/plain": [
       "0    1\n",
       "1    2\n",
       "2    3\n",
       "3    4\n",
       "dtype: int64"
      ]
     },
     "execution_count": 11,
     "metadata": {},
     "output_type": "execute_result"
    }
   ],
   "source": [
    "series_noindex = pd.Series([1, 2, 3, 4])\n",
    "series_noindex   # Or print(series_noindex)"
   ]
  },
  {
   "cell_type": "markdown",
   "metadata": {},
   "source": [
    "In Jupyter Notebook, we can quickly see the value of a variable by simply writing it out , or puttingthe variable inside the `print()` function. We can see that the `series_noindex` Series is indexed by **unique** integers from 0,1,2,etc. In time series analysis, it is often the case that we want to using date time values to index the observations.\n",
    "\n",
    "Now we construct another `Series` object that has time indexed data:"
   ]
  },
  {
   "cell_type": "code",
   "execution_count": 12,
   "metadata": {},
   "outputs": [
    {
     "data": {
      "text/plain": [
       "2014-07-04    1\n",
       "2014-08-04    2\n",
       "2015-07-04    3\n",
       "2015-08-04    4\n",
       "dtype: int64"
      ]
     },
     "execution_count": 12,
     "metadata": {},
     "output_type": "execute_result"
    }
   ],
   "source": [
    "index = pd.DatetimeIndex(['2014-07-04', '2014-08-04','2015-07-04', '2015-08-04'])\n",
    "date_timeindex = pd.Series([1, 2, 3, 4], index=index)\n",
    "date_timeindex # or print(date_timeindex)"
   ]
  },
  {
   "cell_type": "markdown",
   "metadata": {},
   "source": [
    "<div style=\"margin-bottom: 0px;\"><img width=20 style=\"display: block; float: left;  margin-right: 20px;\" src=\"question-mark-button.png\"> <h3 style=\"padding-top: 0px;\">Question </h3></div>\n",
    "\n",
    "- Check the index of `date_timeindex`. Have you seen the difference from the index of `series_noindex`?\n",
    "\n",
    "Now that we have this data in a `Series`, we can make use of any of the `Series` indexing patterns we discussed in previous sections, passing values that can be coerced into dates:"
   ]
  },
  {
   "cell_type": "code",
   "execution_count": 13,
   "metadata": {},
   "outputs": [
    {
     "data": {
      "text/plain": [
       "2014-07-04    1\n",
       "2014-08-04    2\n",
       "2015-07-04    3\n",
       "dtype: int64"
      ]
     },
     "execution_count": 13,
     "metadata": {},
     "output_type": "execute_result"
    }
   ],
   "source": [
    "date_timeindex['2014-07-04':'2015-07-04']\n",
    "# from a to b"
   ]
  },
  {
   "cell_type": "markdown",
   "metadata": {},
   "source": [
    "There are additional special date-only indexing operations, such as passing a year to obtain a slice of all data from that year:"
   ]
  },
  {
   "cell_type": "code",
   "execution_count": 14,
   "metadata": {},
   "outputs": [
    {
     "data": {
      "text/plain": [
       "2015-07-04    3\n",
       "2015-08-04    4\n",
       "dtype: int64"
      ]
     },
     "execution_count": 14,
     "metadata": {},
     "output_type": "execute_result"
    }
   ],
   "source": [
    "date_timeindex['2015']"
   ]
  },
  {
   "cell_type": "markdown",
   "metadata": {},
   "source": [
    "## 5. Play with real data: *AirPassengers* dataset\n",
    "\n",
    "Since you have learnt the basics of processing the date and time in Python, now let’s use Python to visualize some real time series data.\n",
    "\n",
    "Time Series data is a collection of data points collected at constant time intervals. These are analyzed to determine the long term trend so as to forecast the future or perform some other form of analysis. But what makes a Time Series different from say a regular regression problem? There are 2 things:\n",
    "- It is time dependent. So the basic assumption of a linear regression model that the observations are independent doesn’t hold in this case.\n",
    "- Along with an increasing or decreasing trend, most Time Series have some form of seasonality trends, i.e. variations specific to a particular time frame. For example, if you see the sales of a woolen jacket over time, you will invariably find higher sales in winter seasons.\n",
    "\n",
    "Because of the inherent properties of a Time Series, there are various steps involved in analyzing it. These are discussed in detail below. Let’s start by loading a Time Series object in Python. We’ll be using the popular **AirPassengers** data set which can be downloaded from Canvas.\n",
    "\n",
    "### 5.1 Loading the dataset\n",
    "\n",
    "Before you start loading the dataset, please make sure you have successfully load the necessary libraries `Numpy`, `Pandas`, and `matplotlib`. If you haven’t do so, please go back to step 1. \n",
    "\n",
    "To simplify the dat loading step, we should store the data file in the same directory where we save this jupyther notebok. Then we can load the data set and look at some initial rows and data types of the columns:"
   ]
  },
  {
   "cell_type": "code",
   "execution_count": 15,
   "metadata": {},
   "outputs": [
    {
     "name": "stdout",
     "output_type": "stream",
     "text": [
      "     Month  Passengers\n",
      "0  1949-01         112\n",
      "1  1949-02         118\n",
      "2  1949-03         132\n",
      "3  1949-04         129\n",
      "4  1949-05         121\n",
      "5  1949-06         135\n",
      "6  1949-07         148\n",
      "7  1949-08         148\n",
      "\n",
      " Data Types:\n",
      "Month         object\n",
      "Passengers     int64\n",
      "dtype: object\n"
     ]
    }
   ],
   "source": [
    "data = pd.read_csv('AirPassengers.csv')\n",
    "print(data.head(8))\n",
    "print( '\\n Data Types:')\n",
    "print(data.dtypes)"
   ]
  },
  {
   "cell_type": "markdown",
   "metadata": {},
   "source": [
    "The data contains a particular month and number of passengers travelling in that month. But this is still not read as a Time Series object as the data types are `object` and `int`. (Recall how to check type information?)\n",
    "\n",
    "<div style=\"margin-bottom: 0px;\"><img width=20 style=\"display: block; float: left;  margin-right: 20px;\" src=\"question-mark-button.png\"> <h3 style=\"padding-top: 0px;\">Question </h3></div>\n",
    "\n",
    "- What is the type of the variable data?\n",
    "- How many columns in the DataFrame variable data?\n",
    "- What are the index values? Is this in a good time series format?\n",
    "\n",
    "In order to read the data as a time series, we should specify the index column as `datetime` index. Carefully read the code below and ask your questions until you fully understand the meaning of each statement."
   ]
  },
  {
   "cell_type": "code",
   "execution_count": 16,
   "metadata": {},
   "outputs": [
    {
     "data": {
      "text/html": [
       "<div>\n",
       "<style scoped>\n",
       "    .dataframe tbody tr th:only-of-type {\n",
       "        vertical-align: middle;\n",
       "    }\n",
       "\n",
       "    .dataframe tbody tr th {\n",
       "        vertical-align: top;\n",
       "    }\n",
       "\n",
       "    .dataframe thead th {\n",
       "        text-align: right;\n",
       "    }\n",
       "</style>\n",
       "<table border=\"1\" class=\"dataframe\">\n",
       "  <thead>\n",
       "    <tr style=\"text-align: right;\">\n",
       "      <th></th>\n",
       "      <th>Passengers</th>\n",
       "    </tr>\n",
       "    <tr>\n",
       "      <th>Month</th>\n",
       "      <th></th>\n",
       "    </tr>\n",
       "  </thead>\n",
       "  <tbody>\n",
       "    <tr>\n",
       "      <th>1949-01-01</th>\n",
       "      <td>112</td>\n",
       "    </tr>\n",
       "    <tr>\n",
       "      <th>1949-02-01</th>\n",
       "      <td>118</td>\n",
       "    </tr>\n",
       "    <tr>\n",
       "      <th>1949-03-01</th>\n",
       "      <td>132</td>\n",
       "    </tr>\n",
       "    <tr>\n",
       "      <th>1949-04-01</th>\n",
       "      <td>129</td>\n",
       "    </tr>\n",
       "    <tr>\n",
       "      <th>1949-05-01</th>\n",
       "      <td>121</td>\n",
       "    </tr>\n",
       "  </tbody>\n",
       "</table>\n",
       "</div>"
      ],
      "text/plain": [
       "            Passengers\n",
       "Month                 \n",
       "1949-01-01         112\n",
       "1949-02-01         118\n",
       "1949-03-01         132\n",
       "1949-04-01         129\n",
       "1949-05-01         121"
      ]
     },
     "execution_count": 16,
     "metadata": {},
     "output_type": "execute_result"
    }
   ],
   "source": [
    "data_time = pd.read_csv('AirPassengers.csv')           # Load data and set the Month column as the index column\n",
    "data_time['Month']=pd.to_datetime(data_time['Month'])  # Parse the Month column to datetime data typy\n",
    "data_time.set_index('Month', inplace=True)             # Set the Month column to be the index column\n",
    "data_time.head()                                   # Print the first 5 rows"
   ]
  },
  {
   "cell_type": "markdown",
   "metadata": {},
   "source": [
    "<div style=\"margin-bottom: 0px;\"><img width=20 style=\"display: block; float: left;  margin-right: 20px;\" src=\"question-mark-button.png\"> <h3 style=\"padding-top: 0px;\">Question </h3></div>\n",
    "\n",
    "- Can you compare this new variable `data_time` with the previously loaded variable date? Their difference?\n",
    "- How many columns in `data_time`? What are they?\n",
    "- What is the meaning of `inplace=True`? Hint: check the documentation of the `set_index()` method of DataFrame class.\n",
    "- What is the index of the variable `data_time`? What are their values. Now we can see that the data has time object as index and #Passengers as the column. We can cross-check the data type of the index with the following command:"
   ]
  },
  {
   "cell_type": "code",
   "execution_count": 17,
   "metadata": {
    "scrolled": true
   },
   "outputs": [
    {
     "name": "stdout",
     "output_type": "stream",
     "text": [
      "DatetimeIndex(['1949-01-01', '1949-02-01', '1949-03-01', '1949-04-01',\n",
      "               '1949-05-01', '1949-06-01', '1949-07-01', '1949-08-01',\n",
      "               '1949-09-01', '1949-10-01',\n",
      "               ...\n",
      "               '1960-03-01', '1960-04-01', '1960-05-01', '1960-06-01',\n",
      "               '1960-07-01', '1960-08-01', '1960-09-01', '1960-10-01',\n",
      "               '1960-11-01', '1960-12-01'],\n",
      "              dtype='datetime64[ns]', name='Month', length=144, freq=None)\n"
     ]
    }
   ],
   "source": [
    "print(data_time.index)"
   ]
  },
  {
   "cell_type": "markdown",
   "metadata": {},
   "source": [
    "Within the terminal output, you should see the `DatetimeIndex` information. Notice the ` dtype='datetime[ns]'` which confirms that it is a datetime object. As a personal preference, I would convert the column into a Series object to prevent referring to columns names every time when I use the time series. Please feel free to use as a dataframe is that works better for you."
   ]
  },
  {
   "cell_type": "markdown",
   "metadata": {},
   "source": [
    "### 5.2 Indexing the dataset\n",
    "\n",
    "Let’s start by selecting a particular value in the `Series` object. First, we create a new variable named `ts` and assign the column `Passengers` of the `data_time` DataFrame as its values. We then can extract the data of `ts` at a particular time index.\n"
   ]
  },
  {
   "cell_type": "code",
   "execution_count": 18,
   "metadata": {},
   "outputs": [
    {
     "name": "stdout",
     "output_type": "stream",
     "text": [
      "Month\n",
      "1949-01-01    112\n",
      "1949-02-01    118\n",
      "1949-03-01    132\n",
      "1949-04-01    129\n",
      "1949-05-01    121\n",
      "             ... \n",
      "1960-08-01    606\n",
      "1960-09-01    508\n",
      "1960-10-01    461\n",
      "1960-11-01    390\n",
      "1960-12-01    432\n",
      "Name: Passengers, Length: 144, dtype: int64\n"
     ]
    },
    {
     "data": {
      "text/plain": [
       "pandas.core.series.Series"
      ]
     },
     "execution_count": 18,
     "metadata": {},
     "output_type": "execute_result"
    }
   ],
   "source": [
    "ts = data_time['Passengers']\n",
    "# ts['1949-04-01']\n",
    "ts['1949/sept/01']\n",
    "print(ts)\n",
    "# the package is smart enought to cover between different way represent time\n",
    "type(ts)"
   ]
  },
  {
   "cell_type": "markdown",
   "metadata": {},
   "source": [
    "<div style=\"margin-bottom: 0px;\"><img width=20 style=\"display: block; float: left;  margin-right: 20px;\" src=\"question-mark-button.png\"> <h3 style=\"padding-top: 0px;\">Question </h3></div>\n",
    "\n",
    "- What is the type of `ts`?\n",
    "\n",
    "**Note**: A column of a DataFrame is a Series object. "
   ]
  },
  {
   "cell_type": "markdown",
   "metadata": {},
   "source": [
    "### 5.3 Visualize your data\n",
    "\n",
    "Finally, we will visualize our data. In here, we will use the `plot()` function of `matplotlib.pyplot` to show the line plot of `ts`. We use the index column of `ts` as x values. "
   ]
  },
  {
   "cell_type": "code",
   "execution_count": 19,
   "metadata": {},
   "outputs": [
    {
     "data": {
      "image/png": "[encoded data removed]",
      "text/plain": [
       "<Figure size 640x480 with 1 Axes>"
      ]
     },
     "metadata": {},
     "output_type": "display_data"
    }
   ],
   "source": [
    "plt.plot(ts.index,ts)  # syntax: plt.plot(x,y)\n",
    "plt.show()"
   ]
  },
  {
   "cell_type": "markdown",
   "metadata": {},
   "source": [
    "If we dont explicitly specify the x argument, the `plot()` function will automatically assign the index column of the Series object as x values. You may get some warnings for this way of calling the plot() function of `matplotlib.pyplot`."
   ]
  },
  {
   "cell_type": "code",
   "execution_count": 20,
   "metadata": {},
   "outputs": [
    {
     "data": {
      "image/png": "[encoded data removed]",
      "text/plain": [
       "<Figure size 640x480 with 1 Axes>"
      ]
     },
     "metadata": {},
     "output_type": "display_data"
    }
   ],
   "source": [
    "plt.plot(ts) \n",
    "plt.show()"
   ]
  },
  {
   "cell_type": "markdown",
   "metadata": {},
   "source": [
    "You can also plot a sub section of your entire dataset by defining corresponding indexing rule. For example:"
   ]
  },
  {
   "cell_type": "code",
   "execution_count": 21,
   "metadata": {},
   "outputs": [
    {
     "data": {
      "image/png": "[encoded data removed]",
      "text/plain": [
       "<Figure size 640x480 with 1 Axes>"
      ]
     },
     "metadata": {},
     "output_type": "display_data"
    },
    {
     "data": {
      "image/png": "[encoded data removed]",
      "text/plain": [
       "<Figure size 640x480 with 1 Axes>"
      ]
     },
     "metadata": {},
     "output_type": "display_data"
    }
   ],
   "source": [
    "ts1 = ts['1949']\n",
    "plt.figure()\n",
    "plt.plot(ts1)\n",
    "plt.show()\n",
    "\n",
    "ts2 = ts['1949-01-01':'1949-05-01']\n",
    "plt.figure()\n",
    "plt.plot(ts2)\n",
    "plt.xticks(rotation=20)\n",
    "plt.show()"
   ]
  },
  {
   "cell_type": "markdown",
   "metadata": {},
   "source": [
    "At the moment, the plots are not very informative. In the next tutorial, we will learn how to add title, labels, legend to make the plots more informative. \n",
    "\n",
    "**Congratulations!** you have learnt the Time Series data preprocessing in Python! In the next tutorial, we will learn the data manipulations in Time Series data.\n",
    "\n",
    "If you are interested in topic and wish to learn more, the following page is a good start\n",
    "https://towardsdatascience.com/basic-time-series-manipulation-with-pandas-4432afee64ea"
   ]
  },
  {
   "cell_type": "markdown",
   "metadata": {},
   "source": [
    "# Task\n",
    "\n",
    "## Task 1: Practice with Series\n",
    "Write a python script to:\n",
    "- Create a Series of the following names: “david”, “jess”, “mark” and “laura”\n",
    "- Loop over the list\n",
    "- Print the name if the user’s name is not “mark”"
   ]
  },
  {
   "cell_type": "code",
   "execution_count": 22,
   "metadata": {},
   "outputs": [
    {
     "data": {
      "text/plain": [
       "0    False\n",
       "1    False\n",
       "2     True\n",
       "3    False\n",
       "dtype: bool"
      ]
     },
     "execution_count": 22,
     "metadata": {},
     "output_type": "execute_result"
    }
   ],
   "source": [
    "series_name = pd.Series(['david', 'jess', 'mark','laura'])\n",
    "series_name\n",
    "\n",
    "series_name.isin(['mark', 'lama'])\n",
    "# https://pandas.pydata.org/docs/reference/api/pandas.Series.isin.html"
   ]
  },
  {
   "cell_type": "markdown",
   "metadata": {},
   "source": [
    "## Task 2: Practice with date_parser\n",
    "\n",
    "Download “parse_ex1.csv” and “parse_ex2.csv” from Canvas and then load these 2\n",
    "datasets, respectively.\n",
    "You need to store the data into 2 Series variables and then use time information\n",
    "(the first column in your dataset) as the index."
   ]
  },
  {
   "cell_type": "code",
   "execution_count": 23,
   "metadata": {},
   "outputs": [
    {
     "name": "stdout",
     "output_type": "stream",
     "text": [
      "         Date  Sales\n",
      "0  1949-01-01    172\n",
      "1  1949-01-02    185\n",
      "\n",
      " Data Types:\n",
      "Date     object\n",
      "Sales     int64\n",
      "dtype: object\n"
     ]
    },
    {
     "data": {
      "text/html": [
       "<div>\n",
       "<style scoped>\n",
       "    .dataframe tbody tr th:only-of-type {\n",
       "        vertical-align: middle;\n",
       "    }\n",
       "\n",
       "    .dataframe tbody tr th {\n",
       "        vertical-align: top;\n",
       "    }\n",
       "\n",
       "    .dataframe thead th {\n",
       "        text-align: right;\n",
       "    }\n",
       "</style>\n",
       "<table border=\"1\" class=\"dataframe\">\n",
       "  <thead>\n",
       "    <tr style=\"text-align: right;\">\n",
       "      <th></th>\n",
       "      <th>Sales</th>\n",
       "    </tr>\n",
       "    <tr>\n",
       "      <th>Time</th>\n",
       "      <th></th>\n",
       "    </tr>\n",
       "  </thead>\n",
       "  <tbody>\n",
       "    <tr>\n",
       "      <th>1949-01-01</th>\n",
       "      <td>112</td>\n",
       "    </tr>\n",
       "    <tr>\n",
       "      <th>1949-01-02</th>\n",
       "      <td>118</td>\n",
       "    </tr>\n",
       "  </tbody>\n",
       "</table>\n",
       "</div>"
      ],
      "text/plain": [
       "            Sales\n",
       "Time             \n",
       "1949-01-01    112\n",
       "1949-01-02    118"
      ]
     },
     "execution_count": 23,
     "metadata": {},
     "output_type": "execute_result"
    }
   ],
   "source": [
    "data1 = pd.read_csv('parse_ex1.csv')\n",
    "print(data1.head())\n",
    "print( '\\n Data Types:')\n",
    "print(data1.dtypes)\n",
    "\n",
    "# data_time = pd.read_csv('AirPassengers.csv')   \n",
    "data_time = pd.read_csv('parse_ex2.csv')\n",
    "data_time['Time']=pd.to_datetime(data_time['Time']).dt.date  # COVER THE DATETIME DATA TO DATE !! WITHOUT TIME\n",
    "data_time.set_index('Time', inplace=True)             # Set the Month column to be the index column\n",
    "data_time.head()       \n",
    "# print(data2.head())\n",
    "# print( '\\n Data Types:')\n",
    "# print(data2.dtypes)\n",
    "\n"
   ]
  },
  {
   "cell_type": "code",
   "execution_count": null,
   "metadata": {},
   "outputs": [],
   "source": []
  },
  {
   "cell_type": "code",
   "execution_count": null,
   "metadata": {},
   "outputs": [],
   "source": []
  }
 ],
 "metadata": {
  "kernelspec": {
   "display_name": "Python 3",
   "language": "python",
   "name": "python3"
  },
  "language_info": {
   "codemirror_mode": {
    "name": "ipython",
    "version": 3
   },
   "file_extension": ".py",
   "mimetype": "text/x-python",
   "name": "python",
   "nbconvert_exporter": "python",
   "pygments_lexer": "ipython3",
   "version": "3.7.4"
  }
 },
 "nbformat": 4,
 "nbformat_minor": 2
}
