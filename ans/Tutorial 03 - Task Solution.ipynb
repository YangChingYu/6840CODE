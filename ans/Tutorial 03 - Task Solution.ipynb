{
 "cells": [
  {
   "cell_type": "markdown",
   "metadata": {},
   "source": [
    "# Tutorial 03 tasks\n",
    "\n",
    "For this week tasks, please re-use the AirPassenger dataset with the same train/test split ratio used in the tutorial 03.\n",
    "\n",
    "## 1. Implement the simple naive forecasting method in Section 3 using the `shift()` method of Series class.\n",
    "\n",
    " Let's begin our script by importing necessary libraries:"
   ]
  },
  {
   "cell_type": "code",
   "execution_count": 1,
   "metadata": {},
   "outputs": [],
   "source": [
    "# Import some external libraries\n",
    "import pandas as pd                # For data manipulation\n",
    "import matplotlib.pyplot as plt    # For visualization\n",
    "import numpy as np                 # For linear algebra"
   ]
  },
  {
   "cell_type": "markdown",
   "metadata": {},
   "source": [
    "Then read the data file into a `DataFrame` object and use the `Month` column as the index of the `DataFrame`"
   ]
  },
  {
   "cell_type": "code",
   "execution_count": 2,
   "metadata": {},
   "outputs": [],
   "source": [
    "data = pd.read_csv('AirPassengers.csv')       # Read data from a csv file\n",
    "data['Month'] = pd.to_datetime(data['Month']) # Convert the data in the Month column to datetime\n",
    "data.set_index('Month', inplace=True)         # Indexing the DataFrame by the Month column\n",
    "\n",
    "# Extract Passengers column\n",
    "ts = data['Passengers']"
   ]
  },
  {
   "cell_type": "markdown",
   "metadata": {},
   "source": [
    "Implement the train/test split step for the AirPassengers data. We use the observations during $1949-1959$ as the in-sample data and $1960$ as the out-of-sample data."
   ]
  },
  {
   "cell_type": "code",
   "execution_count": 3,
   "metadata": {},
   "outputs": [],
   "source": [
    "# Extract data for in-sample period (1949-1959)\n",
    "ts_in = ts['1949':'1959']\n",
    "T_in = len(ts_in) \n",
    "\n",
    "# Extract data for out-of-sample period (1960)\n",
    "ts_out = ts['1960']\n",
    "T_out = len(ts_out)"
   ]
  },
  {
   "cell_type": "markdown",
   "metadata": {},
   "source": [
    "Implement the simple naive forecasting method using the `shift()` method of Series object."
   ]
  },
  {
   "cell_type": "code",
   "execution_count": 5,
   "metadata": {},
   "outputs": [
    {
     "data": {
      "text/plain": [
       "Month\n",
       "1949-01-01      NaN\n",
       "1949-02-01    112.0\n",
       "1949-03-01    118.0\n",
       "1949-04-01    132.0\n",
       "1949-05-01    129.0\n",
       "              ...  \n",
       "1960-08-01    622.0\n",
       "1960-09-01    606.0\n",
       "1960-10-01    508.0\n",
       "1960-11-01    461.0\n",
       "1960-12-01    390.0\n",
       "Name: Passengers, Length: 144, dtype: float64"
      ]
     },
     "execution_count": 5,
     "metadata": {},
     "output_type": "execute_result"
    }
   ],
   "source": [
    "ts.shift(1)"
   ]
  },
  {
   "cell_type": "code",
   "execution_count": 7,
   "metadata": {},
   "outputs": [
    {
     "data": {
      "text/html": [
       "<div>\n",
       "<style scoped>\n",
       "    .dataframe tbody tr th:only-of-type {\n",
       "        vertical-align: middle;\n",
       "    }\n",
       "\n",
       "    .dataframe tbody tr th {\n",
       "        vertical-align: top;\n",
       "    }\n",
       "\n",
       "    .dataframe thead th {\n",
       "        text-align: right;\n",
       "    }\n",
       "</style>\n",
       "<table border=\"1\" class=\"dataframe\">\n",
       "  <thead>\n",
       "    <tr style=\"text-align: right;\">\n",
       "      <th></th>\n",
       "      <th>Passengers</th>\n",
       "      <th>Pred_one_step_naive1</th>\n",
       "    </tr>\n",
       "    <tr>\n",
       "      <th>Month</th>\n",
       "      <th></th>\n",
       "      <th></th>\n",
       "    </tr>\n",
       "  </thead>\n",
       "  <tbody>\n",
       "    <tr>\n",
       "      <th>1960-01-01</th>\n",
       "      <td>417</td>\n",
       "      <td>405.0</td>\n",
       "    </tr>\n",
       "    <tr>\n",
       "      <th>1960-02-01</th>\n",
       "      <td>391</td>\n",
       "      <td>417.0</td>\n",
       "    </tr>\n",
       "    <tr>\n",
       "      <th>1960-03-01</th>\n",
       "      <td>419</td>\n",
       "      <td>391.0</td>\n",
       "    </tr>\n",
       "    <tr>\n",
       "      <th>1960-04-01</th>\n",
       "      <td>461</td>\n",
       "      <td>419.0</td>\n",
       "    </tr>\n",
       "    <tr>\n",
       "      <th>1960-05-01</th>\n",
       "      <td>472</td>\n",
       "      <td>461.0</td>\n",
       "    </tr>\n",
       "    <tr>\n",
       "      <th>1960-06-01</th>\n",
       "      <td>535</td>\n",
       "      <td>472.0</td>\n",
       "    </tr>\n",
       "    <tr>\n",
       "      <th>1960-07-01</th>\n",
       "      <td>622</td>\n",
       "      <td>535.0</td>\n",
       "    </tr>\n",
       "    <tr>\n",
       "      <th>1960-08-01</th>\n",
       "      <td>606</td>\n",
       "      <td>622.0</td>\n",
       "    </tr>\n",
       "    <tr>\n",
       "      <th>1960-09-01</th>\n",
       "      <td>508</td>\n",
       "      <td>606.0</td>\n",
       "    </tr>\n",
       "    <tr>\n",
       "      <th>1960-10-01</th>\n",
       "      <td>461</td>\n",
       "      <td>508.0</td>\n",
       "    </tr>\n",
       "    <tr>\n",
       "      <th>1960-11-01</th>\n",
       "      <td>390</td>\n",
       "      <td>461.0</td>\n",
       "    </tr>\n",
       "    <tr>\n",
       "      <th>1960-12-01</th>\n",
       "      <td>432</td>\n",
       "      <td>390.0</td>\n",
       "    </tr>\n",
       "  </tbody>\n",
       "</table>\n",
       "</div>"
      ],
      "text/plain": [
       "            Passengers  Pred_one_step_naive1\n",
       "Month                                       \n",
       "1960-01-01         417                 405.0\n",
       "1960-02-01         391                 417.0\n",
       "1960-03-01         419                 391.0\n",
       "1960-04-01         461                 419.0\n",
       "1960-05-01         472                 461.0\n",
       "1960-06-01         535                 472.0\n",
       "1960-07-01         622                 535.0\n",
       "1960-08-01         606                 622.0\n",
       "1960-09-01         508                 606.0\n",
       "1960-10-01         461                 508.0\n",
       "1960-11-01         390                 461.0\n",
       "1960-12-01         432                 390.0"
      ]
     },
     "execution_count": 7,
     "metadata": {},
     "output_type": "execute_result"
    }
   ],
   "source": [
    "# Define forecast horizon (one-step ahead)\n",
    "h = 1   \n",
    "\n",
    "# \n",
    "ts_one_step_naive1 = ts.shift(1)[-T_out:]\n",
    "\n",
    "# It is useful to put true and forecast out-out-sample data in the same DataFrame\n",
    "ts_forecast_df = pd.DataFrame(ts_out)\n",
    "ts_forecast_df['Pred_one_step_naive1'] = ts_one_step_naive1\n",
    "ts_forecast_df"
   ]
  },
  {
   "cell_type": "markdown",
   "metadata": {},
   "source": [
    "## 2. Implement the seasonal naive forecasting method in Section 4 without using the for loop (multiple solutions).\n",
    "\n",
    "There are many possible ways to answer the question. Here is an example:"
   ]
  },
  {
   "cell_type": "code",
   "execution_count": 8,
   "metadata": {},
   "outputs": [
    {
     "data": {
      "text/html": [
       "<div>\n",
       "<style scoped>\n",
       "    .dataframe tbody tr th:only-of-type {\n",
       "        vertical-align: middle;\n",
       "    }\n",
       "\n",
       "    .dataframe tbody tr th {\n",
       "        vertical-align: top;\n",
       "    }\n",
       "\n",
       "    .dataframe thead th {\n",
       "        text-align: right;\n",
       "    }\n",
       "</style>\n",
       "<table border=\"1\" class=\"dataframe\">\n",
       "  <thead>\n",
       "    <tr style=\"text-align: right;\">\n",
       "      <th></th>\n",
       "      <th>Passengers</th>\n",
       "      <th>Pred_one_step_naive1</th>\n",
       "      <th>Pred_one_step_naive2</th>\n",
       "    </tr>\n",
       "    <tr>\n",
       "      <th>Month</th>\n",
       "      <th></th>\n",
       "      <th></th>\n",
       "      <th></th>\n",
       "    </tr>\n",
       "  </thead>\n",
       "  <tbody>\n",
       "    <tr>\n",
       "      <th>1960-01-01</th>\n",
       "      <td>417</td>\n",
       "      <td>405.0</td>\n",
       "      <td>360.0</td>\n",
       "    </tr>\n",
       "    <tr>\n",
       "      <th>1960-02-01</th>\n",
       "      <td>391</td>\n",
       "      <td>417.0</td>\n",
       "      <td>342.0</td>\n",
       "    </tr>\n",
       "    <tr>\n",
       "      <th>1960-03-01</th>\n",
       "      <td>419</td>\n",
       "      <td>391.0</td>\n",
       "      <td>406.0</td>\n",
       "    </tr>\n",
       "    <tr>\n",
       "      <th>1960-04-01</th>\n",
       "      <td>461</td>\n",
       "      <td>419.0</td>\n",
       "      <td>396.0</td>\n",
       "    </tr>\n",
       "    <tr>\n",
       "      <th>1960-05-01</th>\n",
       "      <td>472</td>\n",
       "      <td>461.0</td>\n",
       "      <td>420.0</td>\n",
       "    </tr>\n",
       "    <tr>\n",
       "      <th>1960-06-01</th>\n",
       "      <td>535</td>\n",
       "      <td>472.0</td>\n",
       "      <td>472.0</td>\n",
       "    </tr>\n",
       "    <tr>\n",
       "      <th>1960-07-01</th>\n",
       "      <td>622</td>\n",
       "      <td>535.0</td>\n",
       "      <td>548.0</td>\n",
       "    </tr>\n",
       "    <tr>\n",
       "      <th>1960-08-01</th>\n",
       "      <td>606</td>\n",
       "      <td>622.0</td>\n",
       "      <td>559.0</td>\n",
       "    </tr>\n",
       "    <tr>\n",
       "      <th>1960-09-01</th>\n",
       "      <td>508</td>\n",
       "      <td>606.0</td>\n",
       "      <td>463.0</td>\n",
       "    </tr>\n",
       "    <tr>\n",
       "      <th>1960-10-01</th>\n",
       "      <td>461</td>\n",
       "      <td>508.0</td>\n",
       "      <td>407.0</td>\n",
       "    </tr>\n",
       "    <tr>\n",
       "      <th>1960-11-01</th>\n",
       "      <td>390</td>\n",
       "      <td>461.0</td>\n",
       "      <td>362.0</td>\n",
       "    </tr>\n",
       "    <tr>\n",
       "      <th>1960-12-01</th>\n",
       "      <td>432</td>\n",
       "      <td>390.0</td>\n",
       "      <td>405.0</td>\n",
       "    </tr>\n",
       "  </tbody>\n",
       "</table>\n",
       "</div>"
      ],
      "text/plain": [
       "            Passengers  Pred_one_step_naive1  Pred_one_step_naive2\n",
       "Month                                                             \n",
       "1960-01-01         417                 405.0                 360.0\n",
       "1960-02-01         391                 417.0                 342.0\n",
       "1960-03-01         419                 391.0                 406.0\n",
       "1960-04-01         461                 419.0                 396.0\n",
       "1960-05-01         472                 461.0                 420.0\n",
       "1960-06-01         535                 472.0                 472.0\n",
       "1960-07-01         622                 535.0                 548.0\n",
       "1960-08-01         606                 622.0                 559.0\n",
       "1960-09-01         508                 606.0                 463.0\n",
       "1960-10-01         461                 508.0                 407.0\n",
       "1960-11-01         390                 461.0                 362.0\n",
       "1960-12-01         432                 390.0                 405.0"
      ]
     },
     "execution_count": 8,
     "metadata": {},
     "output_type": "execute_result"
    }
   ],
   "source": [
    "# Define the seasonal period\n",
    "M = 12\n",
    "\n",
    "# Compute one-step-ahead forecast \n",
    "ts_one_step_naive2 = ts.shift(M)[-T_out:]\n",
    "\n",
    "# It is useful to put true and forecast out-out-sample data in the same DataFrame\n",
    "ts_forecast_df['Pred_one_step_naive2'] = ts_one_step_naive2\n",
    "ts_forecast_df"
   ]
  },
  {
   "cell_type": "markdown",
   "metadata": {},
   "source": [
    "## 3. Repeat the comparison in Section 5 using different predictive measures, e.g. MAD and MAPE."
   ]
  },
  {
   "cell_type": "markdown",
   "metadata": {},
   "source": [
    "We define functions to compute the MAD and MAPE measures for the arrays of true and forecast values."
   ]
  },
  {
   "cell_type": "code",
   "execution_count": 19,
   "metadata": {},
   "outputs": [],
   "source": [
    "# Input series are numpy array\n",
    "def MAD(y_true,y_pred):\n",
    "    mad_out = np.mean(np.abs(y_true-y_pred))\n",
    "    return(mad_out)\n",
    "\n",
    "# Define a function to calculate MAPE of 2 series\n",
    "# Input series are numpy array\n",
    "def MAPE(y_true,y_pred):\n",
    "    # Ignore zero returns\n",
    "    y_true_non_zero = y_true[y_true != 0]\n",
    "    y_pred_non_zero = y_pred[y_true != 0]\n",
    "    \n",
    "    mape_out = np.mean(np.abs((y_true_non_zero-y_pred_non_zero)/y_true_non_zero))\n",
    "    return mape_out"
   ]
  },
  {
   "cell_type": "markdown",
   "metadata": {},
   "source": [
    "Then we can use two defined function to compute the MAD and MAPE measure:"
   ]
  },
  {
   "cell_type": "code",
   "execution_count": 20,
   "metadata": {},
   "outputs": [
    {
     "name": "stdout",
     "output_type": "stream",
     "text": [
      "MAD (Simple naive)  : 45.25\n",
      "MAD (Seasonal naive): 47.83\n"
     ]
    }
   ],
   "source": [
    "print('MAD (Simple naive)  : {:.2f}'.format(MAD(ts_out,ts_one_step_naive1)))\n",
    "print('MAD (Seasonal naive): {:.2f}'.format(MAD(ts_out,ts_one_step_naive2)))"
   ]
  },
  {
   "cell_type": "code",
   "execution_count": 21,
   "metadata": {},
   "outputs": [
    {
     "name": "stdout",
     "output_type": "stream",
     "text": [
      "MAPE (Simple naive)  : 0.09\n",
      "MAPE (Seasonal naive): 0.10\n"
     ]
    }
   ],
   "source": [
    "print('MAPE (Simple naive)  : {:.2f}'.format(MAPE(ts_out,ts_one_step_naive1)))\n",
    "print('MAPE (Seasonal naive): {:.2f}'.format(MAPE(ts_out,ts_one_step_naive2)))"
   ]
  }
 ],
 "metadata": {
  "kernelspec": {
   "display_name": "Python 3",
   "language": "python",
   "name": "python3"
  },
  "language_info": {
   "codemirror_mode": {
    "name": "ipython",
    "version": 3
   },
   "file_extension": ".py",
   "mimetype": "text/x-python",
   "name": "python",
   "nbconvert_exporter": "python",
   "pygments_lexer": "ipython3",
   "version": "3.8.8"
  }
 },
 "nbformat": 4,
 "nbformat_minor": 2
}
