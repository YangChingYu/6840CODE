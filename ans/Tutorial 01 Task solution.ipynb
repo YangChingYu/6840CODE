{
 "cells": [
  {
   "cell_type": "markdown",
   "metadata": {},
   "source": [
    "## Task 1: Practice with Series\n",
    "Write a python script to:\n",
    "- Create a Series of the following names: “david”, “jess”, “mark” and “laura”\n",
    "- Loop over the list\n",
    "- Print the name if the user’s name is not “mark”"
   ]
  },
  {
   "cell_type": "code",
   "execution_count": 1,
   "metadata": {},
   "outputs": [],
   "source": [
    "# Import external library\n",
    "import pandas as pd"
   ]
  },
  {
   "cell_type": "code",
   "execution_count": 2,
   "metadata": {},
   "outputs": [
    {
     "name": "stdout",
     "output_type": "stream",
     "text": [
      "david\n",
      "jess\n",
      "laura\n"
     ]
    }
   ],
   "source": [
    "# Create a Series of the following names: “david”, “jess”, “mark” and “laura”\n",
    "names = ['david','jess','mark','laura']\n",
    "\n",
    "# Loop over the list\n",
    "for name_i in names:\n",
    "    # Print the name if the user’s name is not “mark”\n",
    "    if name_i != 'mark':\n",
    "        print(name_i)"
   ]
  },
  {
   "cell_type": "code",
   "execution_count": 9,
   "metadata": {},
   "outputs": [
    {
     "name": "stdout",
     "output_type": "stream",
     "text": [
      "['david', 'jess', 'laura']\n"
     ]
    }
   ],
   "source": [
    "# Or we can use the List Comprehension capability of Python list for more clean code\n",
    "names_no_mark = [name_i for name_i in names if name_i != 'mark']\n",
    "print(names_no_mark)"
   ]
  },
  {
   "cell_type": "markdown",
   "metadata": {},
   "source": [
    "## Task 2: Practice with date_parser\n",
    "\n",
    "Download “parse_ex1.csv” and “parse_ex2.csv” from Canvas and then load these 2\n",
    "datasets, respectively.\n",
    "You need to store the data into 2 Series variables and then use time information\n",
    "(the first column in your dataset) as the index.\n",
    "Hint: you may refer to step 5.1 in your week 1 tutorial document."
   ]
  },
  {
   "cell_type": "code",
   "execution_count": 12,
   "metadata": {},
   "outputs": [
    {
     "data": {
      "text/html": [
       "<div>\n",
       "<style scoped>\n",
       "    .dataframe tbody tr th:only-of-type {\n",
       "        vertical-align: middle;\n",
       "    }\n",
       "\n",
       "    .dataframe tbody tr th {\n",
       "        vertical-align: top;\n",
       "    }\n",
       "\n",
       "    .dataframe thead th {\n",
       "        text-align: right;\n",
       "    }\n",
       "</style>\n",
       "<table border=\"1\" class=\"dataframe\">\n",
       "  <thead>\n",
       "    <tr style=\"text-align: right;\">\n",
       "      <th></th>\n",
       "      <th>Sales</th>\n",
       "    </tr>\n",
       "    <tr>\n",
       "      <th>Date</th>\n",
       "      <th></th>\n",
       "    </tr>\n",
       "  </thead>\n",
       "  <tbody>\n",
       "    <tr>\n",
       "      <th>1949-01-01</th>\n",
       "      <td>172</td>\n",
       "    </tr>\n",
       "    <tr>\n",
       "      <th>1949-01-02</th>\n",
       "      <td>185</td>\n",
       "    </tr>\n",
       "  </tbody>\n",
       "</table>\n",
       "</div>"
      ],
      "text/plain": [
       "            Sales\n",
       "Date             \n",
       "1949-01-01    172\n",
       "1949-01-02    185"
      ]
     },
     "execution_count": 12,
     "metadata": {},
     "output_type": "execute_result"
    }
   ],
   "source": [
    "# Read parse_ex1.csv data and set the first column to be the index column\n",
    "parse_ex1 = pd.read_csv('parse_ex1.csv')\n",
    "parse_ex1['Date'] = pd.to_datetime(parse_ex1['Date'])\n",
    "parse_ex1.set_index('Date', inplace=True)\n",
    "parse_ex1.head()"
   ]
  },
  {
   "cell_type": "code",
   "execution_count": 15,
   "metadata": {},
   "outputs": [
    {
     "data": {
      "text/html": [
       "<div>\n",
       "<style scoped>\n",
       "    .dataframe tbody tr th:only-of-type {\n",
       "        vertical-align: middle;\n",
       "    }\n",
       "\n",
       "    .dataframe tbody tr th {\n",
       "        vertical-align: top;\n",
       "    }\n",
       "\n",
       "    .dataframe thead th {\n",
       "        text-align: right;\n",
       "    }\n",
       "</style>\n",
       "<table border=\"1\" class=\"dataframe\">\n",
       "  <thead>\n",
       "    <tr style=\"text-align: right;\">\n",
       "      <th></th>\n",
       "      <th>Sales</th>\n",
       "    </tr>\n",
       "    <tr>\n",
       "      <th>Time</th>\n",
       "      <th></th>\n",
       "    </tr>\n",
       "  </thead>\n",
       "  <tbody>\n",
       "    <tr>\n",
       "      <th>1949-01-01 07:00:00</th>\n",
       "      <td>112</td>\n",
       "    </tr>\n",
       "    <tr>\n",
       "      <th>1949-01-02 07:00:00</th>\n",
       "      <td>118</td>\n",
       "    </tr>\n",
       "  </tbody>\n",
       "</table>\n",
       "</div>"
      ],
      "text/plain": [
       "                     Sales\n",
       "Time                      \n",
       "1949-01-01 07:00:00    112\n",
       "1949-01-02 07:00:00    118"
      ]
     },
     "execution_count": 15,
     "metadata": {},
     "output_type": "execute_result"
    }
   ],
   "source": [
    "# Read parse_ex2.csv data and set the first column to be the index column\n",
    "parse_ex2 = pd.read_csv('parse_ex2.csv')\n",
    "parse_ex2['Time'] = pd.to_datetime(parse_ex2['Time'])\n",
    "parse_ex2.set_index('Time', inplace=True)\n",
    "parse_ex2.head()"
   ]
  },
  {
   "cell_type": "code",
   "execution_count": null,
   "metadata": {},
   "outputs": [],
   "source": []
  }
 ],
 "metadata": {
  "kernelspec": {
   "display_name": "Python 3",
   "language": "python",
   "name": "python3"
  },
  "language_info": {
   "codemirror_mode": {
    "name": "ipython",
    "version": 3
   },
   "file_extension": ".py",
   "mimetype": "text/x-python",
   "name": "python",
   "nbconvert_exporter": "python",
   "pygments_lexer": "ipython3",
   "version": "3.8.8"
  }
 },
 "nbformat": 4,
 "nbformat_minor": 2
}
