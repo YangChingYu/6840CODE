{
 "cells": [
  {
   "cell_type": "markdown",
   "metadata": {},
   "source": [
    "## Task 1\n",
    "\n",
    "Repeat the process of selecting $\\alpha$ in section 2.3 but using 2-step smoothing"
   ]
  },
  {
   "cell_type": "markdown",
   "metadata": {},
   "source": [
    "Let's begin our script by importing necessary libraries. We then load the dataset."
   ]
  },
  {
   "cell_type": "code",
   "execution_count": 5,
   "metadata": {},
   "outputs": [],
   "source": [
    "# Import some external libraries\n",
    "import pandas as pd                # For data manipulation\n",
    "import matplotlib.pyplot as plt    # For visualization\n",
    "import numpy as np                 # For linear algebra\n",
    "from sklearn.linear_model import LinearRegression # For Linear Regression\n",
    "\n",
    "# Then read the data file into a DataFrame object\n",
    "visitors = pd.read_csv('AustralianVisitors.csv')\n",
    "visitors['Month']=pd.to_datetime(visitors['Month'])\n",
    "visitors.set_index('Month', inplace=True)\n",
    "visitors.head()\n",
    "\n",
    "y = visitors['No of Visitors']"
   ]
  },
  {
   "cell_type": "markdown",
   "metadata": {},
   "source": [
    "First, we define a function to calculate the Sum Squared Error (SSE) to measure the error."
   ]
  },
  {
   "cell_type": "code",
   "execution_count": 6,
   "metadata": {},
   "outputs": [],
   "source": [
    "def sse(x, y):\n",
    "    return np.sum(np.power(x-y,2))"
   ]
  },
  {
   "cell_type": "markdown",
   "metadata": {},
   "source": [
    "To calculate the optimal alpha for a 2-step ahead forecasting, we can shift smoothed series by two time units. This can be achieved by making error between the 3rd value in the original and the 1st in the smoothed, the 4th in original and the 2nd smoothed value and so on."
   ]
  },
  {
   "cell_type": "code",
   "execution_count": 9,
   "metadata": {},
   "outputs": [
    {
     "name": "stdout",
     "output_type": "stream",
     "text": [
      "Optimal Alpha for 2-step forecast 0.12\n"
     ]
    }
   ],
   "source": [
    "# Initialize an empty list to store SSE for each value of alpha\n",
    "sse_two = []\n",
    "\n",
    "# Define an array of values for alpha\n",
    "alphas = np.arange(0.01,1,0.01)\n",
    "\n",
    "# Loop through alphas\n",
    "for i in alphas:\n",
    "    smoothed = visitors.ewm(alpha = i, adjust=False).mean()\n",
    "    sse_two.append(sse(smoothed[:-2], visitors.values[2:]))\n",
    "    \n",
    "    optimal_alpha_two = alphas[np.argmin(sse_two)]\n",
    "print(\"Optimal Alpha for 2-step forecast {:.2f}\".format(optimal_alpha_two))"
   ]
  },
  {
   "cell_type": "markdown",
   "metadata": {},
   "source": [
    "Then let's plot the SSE vs Alpha"
   ]
  },
  {
   "cell_type": "code",
   "execution_count": 10,
   "metadata": {},
   "outputs": [
    {
     "data": {
      "image/png": "[encoded data removed]",
      "text/plain": [
       "<Figure size 432x288 with 1 Axes>"
      ]
     },
     "metadata": {
      "needs_background": "light"
     },
     "output_type": "display_data"
    }
   ],
   "source": [
    "plt.figure()\n",
    "plt.plot(sse_two)\n",
    "plt.title(\"SSE for 2-step smoothing\")\n",
    "plt.ylabel(\"SSE\")\n",
    "plt.xlabel(\"Alpha\")\n",
    "plt.xticks(np.linspace(0, 100, 10), [\"{0:1.1f}\".format(x) for x in np.linspace(0,1,10)])\n",
    "plt.show()"
   ]
  },
  {
   "cell_type": "markdown",
   "metadata": {},
   "source": [
    "## Task 2\n",
    "\n",
    "In the first task of Week 06 tutorial document, we have learnt how to select the best fitted $\\alpha$ value for one-step forecasting. Now, continue with the Section 2 of week 06 tutorial, you need to find the best fitted $\\alpha$ and $\\beta$ value for the **AustralianVisitors.csv** dataset:\n",
    "1. Load the dataset and implement a Holt's linear trend smoothing.\n",
    "2. Define a range of $\\alpha$ and $\\beta$ value to iterate over to calculate the SSE.\n",
    "3. Report the best fitted $\\alpha$ and $\\beta$ value and summarize your observation"
   ]
  },
  {
   "cell_type": "markdown",
   "metadata": {},
   "source": [
    "We have done step 1 in the previous task. Now let's start from step 2. "
   ]
  },
  {
   "cell_type": "markdown",
   "metadata": {},
   "source": [
    "### 2. Define a range of  𝛼  and  𝛽  value to iterate over to calculate the SSE."
   ]
  },
  {
   "cell_type": "code",
   "execution_count": 31,
   "metadata": {},
   "outputs": [],
   "source": [
    "alphas = np.arange(0.01,1,0.02)  # Search for 50 values of alpha from 0.01 to 0.99  \n",
    "betas = np.arange(0.01,1,0.02)   # Search for 50 values of alpha from 0.01 to 0.99"
   ]
  },
  {
   "cell_type": "markdown",
   "metadata": {},
   "source": [
    "### 3. Report the best fitted  𝛼  and  𝛽  value and summarize your observation\n",
    "\n",
    "We find the combination of ($\\alpha, \\beta$) minimizing the SSE of in-sample prediction error. We can simply re-use the manual code of TCES as shown in the tutorial and repeat the process within a nested for loop, one of $\\alpha$ and one for $\\beta$."
   ]
  },
  {
   "cell_type": "code",
   "execution_count": 33,
   "metadata": {},
   "outputs": [
    {
     "name": "stdout",
     "output_type": "stream",
     "text": [
      "Optimal alpha: 0.13\n",
      "Optimal beta : 0.07\n"
     ]
    }
   ],
   "source": [
    "# Assign initial values for level and trend \n",
    "l0 = y[0]\n",
    "b0 = y[1] - y[0]\n",
    "\n",
    "# To store sse for each combination of (alpha,beta)\n",
    "sse_one = np.zeros((len(alphas),len(betas)))\n",
    "\n",
    "# Loop through all combination of (alpha,beta)\n",
    "for k in range(len(alphas)):\n",
    "    for j in range(len(betas)):\n",
    "        \n",
    "        # Pre-allocation (we can make an empty list here to speed up the computational time)\n",
    "        # But to make it similar to the tutorial, we use the copy() method to pre-allocate variables\n",
    "        y_forecast = y.copy().astype(float) \n",
    "        lt = y.copy().astype(float)\n",
    "        bt = y.copy().astype(float)\n",
    "    \n",
    "        # Compute l[1], b[1] and Y_hat[2]\n",
    "        lt[0] = alphas[k] * y[0] + (1 - alphas[k]) * (l0 + b0)\n",
    "        bt[0] = betas[j] * (lt[0] - l0) + (1 - betas[j]) * b0\n",
    "        y_forecast[1] = lt[0] + bt[0]\n",
    "\n",
    "        # Create a loop to compute the forecast values using TCES\n",
    "        for t in range(1,len(y)-1):\n",
    "            # Compute level component\n",
    "            lt[t] = alphas[k] * y[t] + (1 - alphas[k]) * (lt[t-1] + bt[t-1])\n",
    "            \n",
    "            # Compute trend component\n",
    "            bt[t] = betas[j] * (lt[t] - lt[t-1]) + (1 - betas[j]) * bt[t-1]\n",
    "            \n",
    "            # Get the one-step-ahead forecast values\n",
    "            y_forecast[t+1] = lt[t] + bt[t]\n",
    "            \n",
    "        sse_one[k,j] = sse(y_forecast[1:], y.values[1:])\n",
    "        \n",
    "# Get the index of the min sse\n",
    "arg_min = np.unravel_index(sse_one.argmin(), sse_one.shape)\n",
    "\n",
    "print('Optimal alpha: {:.2f}'.format(alphas[arg_min[0]]))\n",
    "print('Optimal beta : {:.2f}'.format(betas[arg_min[1]]))"
   ]
  },
  {
   "cell_type": "markdown",
   "metadata": {},
   "source": [
    "This is another way to implement the grid search for $\\alpha$ bad $\\beta$"
   ]
  },
  {
   "cell_type": "code",
   "execution_count": 34,
   "metadata": {},
   "outputs": [
    {
     "name": "stdout",
     "output_type": "stream",
     "text": [
      "Optimal alpha: 0.13\n",
      "Optimal beta : 0.07\n"
     ]
    }
   ],
   "source": [
    "sse_one = np.zeros((len(alphas),len(betas)))\n",
    "l0 = y[0]\n",
    "b0 = y[1] - y[0]\n",
    "# Loop through all combination of (alpha,beta)\n",
    "for k in range(len(alphas)):\n",
    "    # Empty list to store the in-sample forecast\n",
    "    holts_linear = []\n",
    "    for j in range(len(betas)):\n",
    "        l = [l0]\n",
    "        b = [b0]\n",
    "        # Empty list to store the in-sample forecast\n",
    "        holts_linear = []\n",
    "        for i in range(len(y)):\n",
    "            l.append(alphas[k] * y[i] + (1 - alphas[k]) * (l[i] + b[i])) # Calculate level lt\n",
    "            b.append(betas[j] * (l[i+1] - l[i]) + (1 - betas[j]) * b[i]) # Calculate trend bt\n",
    "            holts_linear.append(l[i+1] + b[i+1])  # Append it to the list\n",
    "        sse_one[k,j] = sse(holts_linear[:-1], y.values[1:])\n",
    "        \n",
    "# Get the index of the min sse\n",
    "arg_min = np.unravel_index(sse_one.argmin(), sse_one.shape)\n",
    "\n",
    "print('Optimal alpha: {:.2f}'.format(alphas[arg_min[0]]))\n",
    "print('Optimal beta : {:.2f}'.format(betas[arg_min[1]]))"
   ]
  },
  {
   "cell_type": "code",
   "execution_count": null,
   "metadata": {},
   "outputs": [],
   "source": []
  }
 ],
 "metadata": {
  "kernelspec": {
   "display_name": "Python 3",
   "language": "python",
   "name": "python3"
  },
  "language_info": {
   "codemirror_mode": {
    "name": "ipython",
    "version": 3
   },
   "file_extension": ".py",
   "mimetype": "text/x-python",
   "name": "python",
   "nbconvert_exporter": "python",
   "pygments_lexer": "ipython3",
   "version": "3.8.8"
  }
 },
 "nbformat": 4,
 "nbformat_minor": 2
}
