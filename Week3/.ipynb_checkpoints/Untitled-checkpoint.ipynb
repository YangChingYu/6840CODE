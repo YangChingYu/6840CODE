{
 "cells": [
  {
   "cell_type": "code",
   "execution_count": null,
   "metadata": {},
   "outputs": [],
   "source": [
    "# -*- coding: utf-8 -*-\n",
    "\"\"\"\n",
    "\n",
    "@author: University of Sydney Business School\n",
    "         Discipline of Business Analytics\n",
    "\"\"\"\n",
    "\n",
    "import numpy as np\n",
    "import pandas as pd\n",
    "import matplotlib.pyplot as plt\n",
    "from drawnow import drawnow\n",
    "import time\n",
    "\n",
    "# Read data from a csv file\n",
    "data = pd.read_csv('beer.csv')\n",
    "\n",
    "beer = data['x']\n",
    "\n",
    "def draw_rolling_mean():\n",
    "    plt.plot(beer)\n",
    "    plt.plot(rolling_mean, '-r')\n",
    "    title_str = 'Moving Average (window size = ' + str(i) + ')'\n",
    "    plt.title(title_str)\n",
    "    plt.xlim((1,55))\n",
    "\n",
    "all_means = np.repeat(np.NaN, 56)     \n",
    "for i in np.arange(3,27,1):\n",
    "    r = beer.rolling(window=i, center=True) # We define the rolling window size\n",
    "                                            # center = True means smoothing\n",
    "                                            # center = False (default) means prediction \n",
    "    rolling_mean = r.mean()  \n",
    "    all_means = np.vstack((all_means, rolling_mean))\n",
    "    time.sleep(3)\n",
    "    drawnow(draw_rolling_mean)\n",
    "    \n",
    "\n",
    "plt.figure() \n",
    "plt.plot(beer)\n",
    "plt.plot(all_means[3,:],'-y')    # for k = 3\n",
    "plt.plot(all_means[7,:],'-r')    # for k = 7"
   ]
  },
  {
   "cell_type": "code",
   "execution_count": null,
   "metadata": {},
   "outputs": [],
   "source": []
  }
 ],
 "metadata": {
  "kernelspec": {
   "display_name": "Python 3",
   "language": "python",
   "name": "python3"
  },
  "language_info": {
   "codemirror_mode": {
    "name": "ipython",
    "version": 3
   },
   "file_extension": ".py",
   "mimetype": "text/x-python",
   "name": "python",
   "nbconvert_exporter": "python",
   "pygments_lexer": "ipython3",
   "version": "3.7.4"
  }
 },
 "nbformat": 4,
 "nbformat_minor": 2
}
