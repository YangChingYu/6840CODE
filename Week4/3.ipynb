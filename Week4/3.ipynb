{
 "cells": [
  {
   "cell_type": "code",
   "execution_count": null,
   "metadata": {},
   "outputs": [],
   "source": [
    "# -*- coding: utf-8 -*-\n",
    "\"\"\"\n",
    "\n",
    "@author: University of Sydney Business School\n",
    "         Discipline of Business Analytics\n",
    "\"\"\"\n",
    "\n",
    "import matplotlib.pyplot as plt\n",
    "import numpy as np\n",
    "import pandas as pd\n",
    "from sklearn import linear_model\n",
    " \n",
    "# Load the population dataset; data are separated by whitespace\n",
    "populations = pd.read_csv('Population.csv', delim_whitespace = True)\n",
    "\n",
    "#We are going to regress Weight variable over the Height variable\n",
    "Y = np.double(populations['Population(M)'].values)     # We want to predict consumption\n",
    "Xyr = np.double(populations['Year'].values)        # Year \n",
    "Xyrsq = Xyr * Xyr                                  # Year squared\n",
    " \n",
    "Xyr= Xyr[:, np.newaxis]  # Making it one column vector, or\n",
    "Y = Y[:, np.newaxis] \n",
    "Xyrsq= Xyrsq[:, np.newaxis]\n",
    "\n",
    "# Now we make predictors of year and squared year\n",
    "Xnew = np.hstack((Xyr, Xyrsq))\n",
    "        \n",
    "# Create linear regression object (model)\n",
    "regr = linear_model.LinearRegression()\n",
    "\n",
    "# Train the model using the training sets\n",
    "regr.fit(Xnew, Y)\n",
    "\n",
    "# The coefficients\n",
    "print('Coefficients: \\n', regr.coef_)\n",
    "# The intercept\n",
    "print('Intercept: \\n', regr.intercept_)\n",
    "\n",
    "# Explained variance score: 1 is perfect prediction\n",
    "print('Variance score (R^2): %.2f' % regr.score(Xnew, Y))\n",
    "\n",
    " \n",
    "Ypred = regr.predict(Xnew) \n",
    "\n",
    "plt.plot(Xyr, Y, '.', color = 'black', label='Observed')\n",
    "plt.plot(Xyr, Ypred, '-r', label='Predicted')\n",
    "plt.title('American Populations (1790-2010)')\n",
    "plt.xlim([1790, 2010])\n",
    "plt.legend(loc=2)  # Putting legend on the left top\n",
    "plt.show()"
   ]
  }
 ],
 "metadata": {
  "kernelspec": {
   "display_name": "Python 3",
   "language": "python",
   "name": "python3"
  },
  "language_info": {
   "codemirror_mode": {
    "name": "ipython",
    "version": 3
   },
   "file_extension": ".py",
   "mimetype": "text/x-python",
   "name": "python",
   "nbconvert_exporter": "python",
   "pygments_lexer": "ipython3",
   "version": "3.7.4"
  }
 },
 "nbformat": 4,
 "nbformat_minor": 2
}
