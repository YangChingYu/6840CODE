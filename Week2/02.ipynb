{
 "cells": [
  {
   "cell_type": "code",
   "execution_count": 2,
   "metadata": {},
   "outputs": [
    {
     "ename": "ModuleNotFoundError",
     "evalue": "No module named 'drawnow'",
     "output_type": "error",
     "traceback": [
      "\u001b[0;31m---------------------------------------------------------------------------\u001b[0m",
      "\u001b[0;31mModuleNotFoundError\u001b[0m                       Traceback (most recent call last)",
      "\u001b[0;32m<ipython-input-2-694d8c1a5b28>\u001b[0m in \u001b[0;36m<module>\u001b[0;34m\u001b[0m\n\u001b[1;32m     10\u001b[0m \u001b[0;32mimport\u001b[0m \u001b[0mnumpy\u001b[0m \u001b[0;32mas\u001b[0m \u001b[0mnp\u001b[0m\u001b[0;34m\u001b[0m\u001b[0;34m\u001b[0m\u001b[0m\n\u001b[1;32m     11\u001b[0m \u001b[0;32mimport\u001b[0m \u001b[0mmatplotlib\u001b[0m\u001b[0;34m.\u001b[0m\u001b[0mpyplot\u001b[0m \u001b[0;32mas\u001b[0m \u001b[0mplt\u001b[0m\u001b[0;34m\u001b[0m\u001b[0;34m\u001b[0m\u001b[0m\n\u001b[0;32m---> 12\u001b[0;31m \u001b[0;32mfrom\u001b[0m \u001b[0mdrawnow\u001b[0m \u001b[0;32mimport\u001b[0m \u001b[0mdrawnow\u001b[0m           \u001b[0;31m# Install: pip install drawnow\u001b[0m\u001b[0;34m\u001b[0m\u001b[0;34m\u001b[0m\u001b[0m\n\u001b[0m\u001b[1;32m     13\u001b[0m \u001b[0;32mimport\u001b[0m \u001b[0mtime\u001b[0m\u001b[0;34m\u001b[0m\u001b[0;34m\u001b[0m\u001b[0m\n\u001b[1;32m     14\u001b[0m \u001b[0;34m\u001b[0m\u001b[0m\n",
      "\u001b[0;31mModuleNotFoundError\u001b[0m: No module named 'drawnow'"
     ]
    }
   ],
   "source": [
    "#!/usr/bin/env python3\n",
    "# -*- coding: utf-8 -*-\n",
    "\"\"\"\n",
    "\n",
    "@author: University of Sydney Business School\n",
    "         Discipline of Business Analytics\n",
    "\"\"\"\n",
    "\n",
    "# Import libraries \n",
    "import numpy as np\n",
    "import matplotlib.pyplot as plt\n",
    "from drawnow import drawnow           # Install: pip install drawnow\n",
    "import time\n",
    "\n",
    "N = 200                               # Number of observations\n",
    "t = np.arange(1,201,1) /200.0\n",
    "y = 0.6*t                             # Make a simulation time series\n",
    "\n",
    "\n",
    "s = np.random.randint(1,7,10)        # Generate random integer numbers\n",
    "s = s * np.array([1, -1, 1, 1, -1, -1, 1, 1, 1, -1])\n",
    "s = np.tile(s, 20)                   # Replicate array s 20 times\n",
    "\n",
    "# The function to draw the pure trend\n",
    "def draw_trend():\n",
    "    plt.plot(t,y)\n",
    "    plt.title('The Trend')\n",
    "\n",
    "# The function to draw the trend plus seasonal\n",
    "def draw_seasonal():\n",
    "    plt.plot(y+s/50.0)\n",
    "    plt.title('The Trend Plus Seasonals')\n",
    "    \n",
    "# The function to draw the simulated data\n",
    "def draw_withNoise():\n",
    "    plt.plot(y+s/50.0+0.05*np.random.normal(size=200))\n",
    "    plt.title('A Synthetic Possibly True Time Series')\n",
    "\n",
    "# The function to draw the seasonal adjusted data \n",
    "def draw_adjusted(): \n",
    "    plt.plot(y+0.01*np.random.normal(size=200))\n",
    "    plt.title('Seasonally Adjusted Data!')\n",
    "\n",
    "time.sleep(3)                # Sleep 3 seconds\n",
    "drawnow(draw_trend)          # Call the function to plot the pure trend\n",
    "time.sleep(5)\n",
    "drawnow(draw_trend)\n",
    "time.sleep(5)\n",
    "drawnow(draw_seasonal)       # Call the function to plot trend + seasonal\n",
    "time.sleep(20)\n",
    "drawnow(draw_seasonal)\n",
    "time.sleep(5)\n",
    "drawnow(draw_withNoise)      # Call the function to plot trend + seasonal + fluctuation\n",
    "time.sleep(5)\n",
    "drawnow(draw_withNoise)\n",
    "time.sleep(5)\n",
    "drawnow(draw_adjusted)       # Call the function to plot the seasonal adjusted data\n",
    "\n",
    "\n"
   ]
  },
  {
   "cell_type": "code",
   "execution_count": null,
   "metadata": {},
   "outputs": [],
   "source": []
  }
 ],
 "metadata": {
  "kernelspec": {
   "display_name": "Python 3",
   "language": "python",
   "name": "python3"
  },
  "language_info": {
   "codemirror_mode": {
    "name": "ipython",
    "version": 3
   },
   "file_extension": ".py",
   "mimetype": "text/x-python",
   "name": "python",
   "nbconvert_exporter": "python",
   "pygments_lexer": "ipython3",
   "version": "3.7.4"
  }
 },
 "nbformat": 4,
 "nbformat_minor": 2
}
