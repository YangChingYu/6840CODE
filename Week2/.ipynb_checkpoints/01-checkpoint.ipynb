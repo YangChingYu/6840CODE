{
 "cells": [
  {
   "cell_type": "code",
   "execution_count": 1,
   "metadata": {},
   "outputs": [
    {
     "data": {
      "text/plain": [
       "<Figure size 640x480 with 1 Axes>"
      ]
     },
     "metadata": {},
     "output_type": "display_data"
    },
    {
     "data": {
      "text/plain": [
       "(0.0, 55.0)"
      ]
     },
     "execution_count": 1,
     "metadata": {},
     "output_type": "execute_result"
    }
   ],
   "source": [
    "#!/usr/bin/env python3\n",
    "# -*- coding: utf-8 -*-\n",
    "\"\"\"\n",
    "\n",
    "@author: University of Sydney Business School\n",
    "         Discipline of Business Analytics\n",
    "\"\"\"\n",
    "\n",
    "# Import libraries \n",
    "import pandas as pd                  # For data manipulation\n",
    "import matplotlib.pyplot as plt      # For data visualisation\n",
    "import numpy as np                   # For mathematics and scientific functions\n",
    " \n",
    "# Prepare data\n",
    "x = np.linspace(0, 2*np.pi, 3000)\n",
    "d = (2+np.random.normal(0, 1, 3000)) * np.c_[np.sin(x), np.cos(x)].T\n",
    "\n",
    "# Prepare colors and lengends\n",
    "lg = []\n",
    "colors = (i + j for j in 'o<.' for i in 'bgrcmyk')\n",
    "labels = 'one two three four five six seven eight nine ten'.split()\n",
    "\n",
    "plt.figure()   # Open a window to draw\n",
    "\n",
    "for i, l, c  in zip(range(10), labels, colors):\n",
    "    start, stop = i * 300, (i + 1) * 300   # pick up 300 points from the series\n",
    "                                           # label means to add lengends\n",
    "    handle = plt.plot(d[0, start:stop], d[1, start:stop], c, label=l)\n",
    "    lg.append(handle)\n",
    "    plt.legend()\n",
    "\n",
    "plt.show()\n",
    "\n",
    "plt.figure()\n",
    "plt.scatter(d[0, start:stop], d[1, start:stop]) \n",
    "\n",
    "data = pd.read_csv('beer.csv')\n",
    "\n",
    "beer = data['x']\n",
    "\n",
    "# We can directly draw pandas Series with matplotlib\n",
    "# Note we get an axes to add grid lines\n",
    "plt.figure()\n",
    "ax = plt.axes()\n",
    "ax.plot(beer)\n",
    "plt.title('Monthly Beer Consumption 1991 - 1995')\n",
    "plt.xlabel('Months')\n",
    "plt.ylabel('Megalitres')\n",
    "ax.yaxis.grid()\n",
    "plt.xlim([0,55])\n",
    "\n",
    "plt.figure()\n",
    "ax = plt.axes()\n",
    "ax.scatter(range(0,56),beer)\n",
    "plt.title('Monthly Beer Consumption 1991 - 1995 (Actual Time Series)')\n",
    "plt.xlabel('Months')\n",
    "plt.ylabel('Megalitres')\n",
    "ax.yaxis.grid()\n",
    "plt.xlim([0,55])"
   ]
  },
  {
   "cell_type": "code",
   "execution_count": null,
   "metadata": {},
   "outputs": [],
   "source": []
  }
 ],
 "metadata": {
  "kernelspec": {
   "display_name": "Python 3",
   "language": "python",
   "name": "python3"
  },
  "language_info": {
   "codemirror_mode": {
    "name": "ipython",
    "version": 3
   },
   "file_extension": ".py",
   "mimetype": "text/x-python",
   "name": "python",
   "nbconvert_exporter": "python",
   "pygments_lexer": "ipython3",
   "version": "3.7.4"
  }
 },
 "nbformat": 4,
 "nbformat_minor": 2
}
