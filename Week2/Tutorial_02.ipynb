{
 "cells": [
  {
   "cell_type": "markdown",
   "metadata": {},
   "source": [
    "<center><h1>QBUS6840 - Predictive Analytics </h1></center>\n",
    "\n",
    "# Tutorial 2 - Working with Time-Series II\n",
    " \n",
    "### Objectives: Get familiar with Time Series data manipulation\n",
    "\n",
    " \n",
    "1. How to generate random numbers and set random seed\n",
    "2. How to shift a time series\n",
    "3. How to retrieve data from a DataFrame"
   ]
  },
  {
   "cell_type": "markdown",
   "metadata": {},
   "source": [
    "In our last tutorial, we have learnt the data preprocessing in Time Series, e.g. loading the dataset from a csv file, indexing the data, and visualizing the data. In this week, we will go one step further with data manipulation.\n",
    "\n",
    "Let's continue with step 5 in the last tutorial. At the end of the task, you got a plot of the time series showing number of passengers in different time points."
   ]
  },
  {
   "cell_type": "code",
   "execution_count": null,
   "metadata": {},
   "outputs": [],
   "source": [
    "# Import some external libraries\n",
    "import pandas as pd                # For data manipulation\n",
    "import matplotlib.pyplot as plt    # For visualization\n",
    "import numpy as np                 # For linear algebra\n",
    "\n",
    "# Load data and set the Month column as the index column\n",
    "data_time = pd.read_csv('AirPassengers.csv')              # Read data from a csv file\n",
    "data_time['Month']=pd.to_datetime(data_time['Month'])     # Convert the data in the Month column to datetime\n",
    "data_time.set_index('Month', inplace=True)                # Indexing the DataFrame by the Month column\n",
    "data_time.head()\n",
    "\n",
    "# Extract the Passengers column and plot the time series\n",
    "ts = data_time['Passengers']\n",
    "\n",
    "# Create a figure and plot the time series\n",
    "plt.figure()                          # Create an empty figure\n",
    "plt.plot(ts)                          # Implicitly use time indexes for x data\n",
    "plt.title('Air Passenger 1949-1961')  # Add title to the plot\n",
    "plt.xlabel('Time')                    # Add label to the x-axis\n",
    "plt.ylabel('Passengers number')       # Add label to the y-axis\n",
    "plt.show()"
   ]
  },
  {
   "cell_type": "markdown",
   "metadata": {},
   "source": [
    "**Note:** If you don't want to see the warning about the implicit data time converter of Pandas, you can explicitly add the values for x-axis as `plt.plot(ts.index,ts)`, or add this line anywhere before calling the `plot()` function\n",
    "```Python\n",
    "pd.plotting.register_matplotlib_converters()\n",
    "```\n",
    "\n",
    "<div style=\"margin-bottom: 0px;\"><img width=20 style=\"display: block; float: left;  margin-right: 20px;\" src=\"question-mark-button.png\"> <h3 style=\"padding-top: 0px;\">Question </h3></div>\n",
    "\n",
    "- Can you rotate xticks a 70 degree angle? **Hint:** using `plt.xticks()` with `rotation=70`\n",
    "- Can you change the figure size to *width=15* and *height=6*? **Hint:** using `plt.figure()` with argument `figsize=(15,6)`"
   ]
  },
  {
   "cell_type": "markdown",
   "metadata": {},
   "source": [
    "## 1. Random numbers and random seed\n",
    "\n",
    "You may notice that the above plot is neat and clean. However, sometimes, this kind of data may not good for the use of time series forecasting due to the lack of **generalization**. In order to overcome this issue, a common practice is to add some random numbers to the dataset as a form of **regularization**, and therefore, improving the **generalization** of the model.\n",
    "\n",
    "Here, we will add random numbers, or simulated/synthetic noise, to our original data. By doing this, we will use `numpy` library to generate random numbers and add those numbers to the air passenger dataset.\n",
    "\n",
    "In general, when you have used random numbers in your program, every time when you run your program, it will give different results, causing trouble to validate the problem. To make sure you can obtain the \"same\" results for all runs, you can start by \"seeding\" numpy’s random number generator (RNG). Seeding can guarantee that each time you run the script the same random data will be produced. You can use any number as the parameter to the seed function. In this tutorial, let's chose $0$. \n",
    "\n",
    "**Note:** The main purpose of this section is to introduce the concept of random number, random seed and how to use `numpy` to generate random numbers in a sample case where we may need to use random numbers. The section does not imply that we always have to add random numbers to clean time series data to make the data more realistic.    \n"
   ]
  },
  {
   "cell_type": "code",
   "execution_count": null,
   "metadata": {},
   "outputs": [],
   "source": [
    "# Fixing random state for reproducibility\n",
    "np.random.seed(0)  "
   ]
  },
  {
   "cell_type": "markdown",
   "metadata": {},
   "source": [
    "Then generate some random data that is the same length as the Air Passengers data:"
   ]
  },
  {
   "cell_type": "code",
   "execution_count": null,
   "metadata": {},
   "outputs": [],
   "source": [
    "# Create a vector of random numbers with the same length as the ts series\n",
    "random_data = np.random.randn(len(ts))"
   ]
  },
  {
   "cell_type": "markdown",
   "metadata": {},
   "source": [
    "Then add the following code to plot the data. We use a scale factor to control the impact of the simulated noise to the original data.  "
   ]
  },
  {
   "cell_type": "code",
   "execution_count": null,
   "metadata": {},
   "outputs": [],
   "source": [
    "# Add random noise to all data points\n",
    "scale = 20\n",
    "ts_noise = ts + (random_data * scale)  \n",
    "\n",
    "# Plot the noisy data and make the plot more informative\n",
    "plt.figure()\n",
    "plt.plot(ts_noise.index,ts_noise)\n",
    "plt.title('Air Passenger 1949-1961 number with Noise')  # Add title to the plot\n",
    "plt.xlabel('Time')                                      # Add label to the x-axis\n",
    "plt.ylabel('Passengers number')                         # Add label to the y-axis\n",
    "plt.show()"
   ]
  },
  {
   "cell_type": "markdown",
   "metadata": {},
   "source": [
    "<div style=\"margin-bottom: 0px;\"><img width=20 style=\"display: block; float: left;  margin-right: 20px;\" src=\"question-mark-button.png\"> <h3 style=\"padding-top: 0px;\">Question </h3></div>\n",
    "\n",
    "- What is the length of `ts_noise`?\n",
    "- What will happen to `ts_noise` when `scale` is too big or too small?\n",
    "- If you don't run `np.random.seed(0)` at the very beginning, guess what could happen?"
   ]
  },
  {
   "cell_type": "markdown",
   "metadata": {},
   "source": [
    "## 2.  Time-shifts\n",
    "\n",
    "Another common time series-specific operation is shifting of data in time, e.g. lagging or leading. If the time series is stored as a Series object, then we can call the `shift()` method to shift the data. The shifting operation can be specified in multiple frequencies, e.g. different number of lags or leads. \n",
    "\n",
    "Continue with the last step, here we will shift the data by 6 months ahead as"
   ]
  },
  {
   "cell_type": "code",
   "execution_count": null,
   "metadata": {},
   "outputs": [],
   "source": [
    "data_shift  = ts_noise.shift(6)       # Shift data by 6 months\n",
    "print(data_shift.head(10))            # Print the first 10 data points\n",
    "print(data_shift.tail(10))            # Print the last 10 data points"
   ]
  },
  {
   "cell_type": "markdown",
   "metadata": {},
   "source": [
    "Then we plot the original noised data and the shifted data within one window by using `plt.subplots()`. Below is an example, "
   ]
  },
  {
   "cell_type": "code",
   "execution_count": null,
   "metadata": {},
   "outputs": [],
   "source": [
    "# Plot 2 time series in 2 sub plots\n",
    "fig, ax = plt.subplots(2, 1, sharex=True)\n",
    "ax[0].plot(ts_noise)\n",
    "ax[1].plot(data_shift)\n",
    "ax[0].legend(['noised data'], loc=2)     # Adding legend for the 'noise data' series\n",
    "ax[1].legend(['shift(6)'], loc=2)        # Adding legend for the 'noise data' series\n",
    "ax[0].set_title('Number of passengers')  # Use subplot 1's title as the shared title\n",
    "ax[1].set_xlabel('Time')                 # Use subplot 2's xlabel as the shared label for x-axis  \n",
    "plt.show()"
   ]
  },
  {
   "cell_type": "markdown",
   "metadata": {},
   "source": [
    "<div style=\"margin-bottom: 0px;\"><img width=20 style=\"display: block; float: left;  margin-right: 20px;\" src=\"question-mark-button.png\"> <h3 style=\"padding-top: 0px;\">Question </h3></div>\n",
    "\n",
    "- What is the data type of `ax`?\n",
    "- What is `ax[0]`, `ax[1]` and `ax[2]`?\n",
    "- Which statement controls the number of rows and columns of the plots?\n",
    "- What are the difference among three new data series?\n",
    "- Can you modify the `loc` argument and see what happen?\n",
    "\n",
    "From the above example, we can see `shift(6)` function could shift the data index with 6 points, which is 6 months in our case. This function pushes some of data point off the end of the graph (and leaving NA values at the other end).\n",
    "   \n",
    "\n",
    "## 3.  Retrieving data from a DataFrame\n",
    "\n",
    "`DataFrame` is a special data type of Pandas, designed to store tabular data, e.g. data with rows and columns. Let's take a closer look at what we can do with Pandas `DataFrame`.\n",
    "\n",
    "Download the **'drinks.csv'** file from the QBUS6840 Canvas site, and use Excel to pre-view the data file so that you understand what information is in the file.\n",
    "\n",
    "Add the following to your script to import the drinks file:\n"
   ]
  },
  {
   "cell_type": "code",
   "execution_count": null,
   "metadata": {},
   "outputs": [],
   "source": [
    "drinks = pd.read_csv('drinks.csv')   # Read data from a csv file\n",
    "drinks.head()                        # Print the first 5 rows of the DataFrame"
   ]
  },
  {
   "cell_type": "markdown",
   "metadata": {},
   "source": [
    "To view the information about each column, we use the `info()` method of the DataFrame class"
   ]
  },
  {
   "cell_type": "code",
   "execution_count": null,
   "metadata": {},
   "outputs": [],
   "source": [
    "# Print general information about the data\n",
    "drinks.info()"
   ]
  },
  {
   "cell_type": "markdown",
   "metadata": {},
   "source": [
    "<div style=\"margin-bottom: 0px;\"><img width=20 style=\"display: block; float: left;  margin-right: 20px;\" src=\"question-mark-button.png\"> <h3 style=\"padding-top: 0px;\">Question </h3></div>\n",
    "\n",
    "- Was the information same as what you have observed in Excel?\n",
    "- What is the data type of the beer servings column?\n",
    "- How many rows do you have? Is the same number of rows in Excel?\n",
    "\n",
    "We can easily get some basic statistics about each column by using the `describe()` method of the DataFrame class"
   ]
  },
  {
   "cell_type": "code",
   "execution_count": null,
   "metadata": {},
   "outputs": [],
   "source": [
    "# Get summary statistics of numerical columns\n",
    "drinks.describe()"
   ]
  },
  {
   "cell_type": "markdown",
   "metadata": {},
   "source": [
    "<div style=\"margin-bottom: 0px;\"><img width=20 style=\"display: block; float: left;  margin-right: 20px;\" src=\"question-mark-button.png\"> <h3 style=\"padding-top: 0px;\">Question </h3></div>\n",
    "\n",
    "- What is the mean of the wine servings column?\n",
    "\n"
   ]
  },
  {
   "cell_type": "markdown",
   "metadata": {},
   "source": [
    "To extract a single column, you can index a column by its column name. For example, let's extract the beer servings column and print general description about the beer serving amount:"
   ]
  },
  {
   "cell_type": "code",
   "execution_count": null,
   "metadata": {},
   "outputs": [],
   "source": [
    "beer_series = drinks['beer_servings']     # Extract the beer_servings column as a Series\n",
    "                                          # or you can write  beer_series = drinks.beer_servings\n",
    "print(beer_series.describe())  # Summarize only the beer_servings Series\n",
    "\n",
    "# Or we can combine 2 steps in a single line of code (nesting)\n",
    "print(drinks['beer_servings'].describe()) # Summarize only the beer_servings Series\n",
    "\n",
    "# It is even possible to do like this\n",
    "print(drinks.beer_servings.describe())"
   ]
  },
  {
   "cell_type": "markdown",
   "metadata": {},
   "source": [
    "**Note:** `drinks['beer_servings']` or `drinks.beer_servings` give you the same result, which is a Series object.\n",
    "\n",
    "**Note:** A single column of a pandas `DataFrame` is a `Series` object. `Series` has many of the same features of an entire `DataFrame`. \n",
    "\n",
    "Let's calculate the mean of the beer servings by using the `mean()` method of `Series` objects:"
   ]
  },
  {
   "cell_type": "code",
   "execution_count": null,
   "metadata": {},
   "outputs": [],
   "source": [
    "# Get the mean of beer_servings column\n",
    "beer_series.mean()   "
   ]
  },
  {
   "cell_type": "markdown",
   "metadata": {},
   "source": [
    "Pandas allows us to do quite powerful expressions for querying our dataset. For example, you may want to get the countries from Europe. For this dataset try the following:"
   ]
  },
  {
   "cell_type": "code",
   "execution_count": null,
   "metadata": {},
   "outputs": [],
   "source": [
    "# Extract only rows with 'continent' equals to 'EU'\n",
    "euro_frame = drinks[drinks['continent'] == 'EU']   \n",
    "euro_frame.head()"
   ]
  },
  {
   "cell_type": "markdown",
   "metadata": {},
   "source": [
    "You can even combine queries. Let's get all countries from Europe with yearly wine servings greater than 300:"
   ]
  },
  {
   "cell_type": "code",
   "execution_count": null,
   "metadata": {},
   "outputs": [],
   "source": [
    "# Extract only rows with 'continent' equals to 'EU' and 'wine_servings' is more than 300\n",
    "# Use '&' to connect multiple conditional statements\n",
    "euro_wine_300_frame = drinks[(drinks['continent'] == 'EU') & (drinks['wine_servings'] > 300)]\n",
    "euro_wine_300_frame"
   ]
  },
  {
   "cell_type": "markdown",
   "metadata": {},
   "source": [
    "<div style=\"margin-bottom: 0px;\"><img width=20 style=\"display: block; float: left;  margin-right: 20px;\" src=\"question-mark-button.png\"> <h3 style=\"padding-top: 0px;\">Question </h3></div>\n",
    "\n",
    "- Which country drinks most alcohol?"
   ]
  },
  {
   "cell_type": "markdown",
   "metadata": {},
   "source": [
    "Sometimes your dataset may be missing values. In this case `Pandas` has interpreted countries from North America `(continent = NA)` as having `NaN` values. Let's fix that:"
   ]
  },
  {
   "cell_type": "code",
   "execution_count": null,
   "metadata": {},
   "outputs": [],
   "source": [
    "# Fill empty values will 'NA' string\n",
    "# Modify the original data with 'inplace=True'\n",
    "drinks['continent'].fillna(value='NA', inplace=True)"
   ]
  },
  {
   "cell_type": "markdown",
   "metadata": {},
   "source": [
    "You can insert your own columns into a `DataFrame`. For example, let's create some columns based off the existing columns:"
   ]
  },
  {
   "cell_type": "code",
   "execution_count": null,
   "metadata": {},
   "outputs": [],
   "source": [
    "# Create a new column by adding 'beer_servings', 'spirit_servings' and 'wine_servings' columns\n",
    "drinks['total_servings'] = drinks.beer_servings + drinks.spirit_servings + drinks.wine_servings\n",
    "\n",
    "# Create a new column by multiplyig the 'total_litres_of_pure_alcohol' column by 1000\n",
    "drinks['alcohol_mL'] = drinks.total_litres_of_pure_alcohol * 1000\n",
    "\n",
    "drinks.head()"
   ]
  },
  {
   "cell_type": "markdown",
   "metadata": {},
   "source": [
    "Finally let's see if there's a relationship between beer servings and total litres of pure alcohol."
   ]
  },
  {
   "cell_type": "code",
   "execution_count": null,
   "metadata": {},
   "outputs": [],
   "source": [
    "# Scatter plot to visualize the relationship between 'total_litres_of_pure_alcohol' and 'beer_servings'\n",
    "plt.scatter(drinks['total_litres_of_pure_alcohol'], drinks['beer_servings']) \n",
    "\n",
    "# Make the plot more informative\n",
    "plt.xlabel('Total Litres of Alcohol')                                        \n",
    "plt.ylabel('Beer Servings')\n",
    "plt.title('International Alcohol Statistics')\n",
    "plt.show()"
   ]
  },
  {
   "cell_type": "markdown",
   "metadata": {},
   "source": [
    "<div style=\"margin-bottom: 0px;\"><img width=20 style=\"display: block; float: left;  margin-right: 20px;\" src=\"question-mark-button.png\"> <h3 style=\"padding-top: 0px;\">Question </h3></div>\n",
    "\n",
    "- Summarize what you have seen from the plot?\n",
    "\n",
    "<div style=\"margin-bottom: 0px;\"><img width=20 style=\"display: block; float: left;  margin-right: 20px;\" src=\"docs.png\"> <h3 style=\"padding-top: 0px;\">Documentation - DataFrame </h3></div>\n",
    "\n",
    "https://pandas.pydata.org/pandas-docs/stable/reference/api/pandas.DataFrame.html"
   ]
  },
  {
   "cell_type": "markdown",
   "metadata": {},
   "source": [
    "# Task\n",
    "\n",
    "This hourly data set contains the PM2.5 data ***BeijingPM20100101_20151231.csv*** in Beijing. The time period is between Jan 1st, 2010 to Dec 31st, 2015. Missing data are denoted as `NA`.\n",
    "\n",
    "Now you are required to write a python script to:\n",
    "1. Read the dataset and store the data in a Dataframe. Use time information as the index of this Dataframe. Note that the time information could be found in the second column (year-month-day-hour) of the csv file.\n",
    "2. Extract the PM_US_Post column and then store the data according to the year information (say, store each year’s data into a single Series variable).\n",
    "3. Extract the data in March of each year.\n",
    "4. Calculate the mean value of each March's data, and then plot these mean value by using a line curve."
   ]
  }
 ],
 "metadata": {
  "kernelspec": {
   "display_name": "Python 3",
   "language": "python",
   "name": "python3"
  },
  "language_info": {
   "codemirror_mode": {
    "name": "ipython",
    "version": 3
   },
   "file_extension": ".py",
   "mimetype": "text/x-python",
   "name": "python",
   "nbconvert_exporter": "python",
   "pygments_lexer": "ipython3",
   "version": "3.8.8"
  }
 },
 "nbformat": 4,
 "nbformat_minor": 2
}
