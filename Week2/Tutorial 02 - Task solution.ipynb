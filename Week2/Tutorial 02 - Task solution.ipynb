{
 "cells": [
  {
   "cell_type": "markdown",
   "metadata": {},
   "source": [
    "# Task\n",
    "\n",
    "This hourly data set contains the PM2.5 data ***BeijingPM20100101_20151231.csv*** in Beijing. The time period is between Jan 1st, 2010 to Dec 31st, 2015. Missing data are denoted as `NA`.\n",
    "\n",
    "Now you are required to write a python script to:\n",
    "1. Read the dataset and store the data in a Dataframe. Use time information as the index of this Dataframe. Note that the time information could be found in the second column (year-month-day-hour) of the csv file.\n",
    "2. Extract the PM_US_Post column and then store the data according to the year information (say, store each year’s data into a single Series variable).\n",
    "3. Extract the data in March of each year.\n",
    "4. Calculate the mean value of each March's data, and then plot these mean value by using a line curve."
   ]
  },
  {
   "cell_type": "code",
   "execution_count": 1,
   "metadata": {},
   "outputs": [],
   "source": [
    "# Import some external libraries\n",
    "import pandas as pd                # For data manipulation\n",
    "import matplotlib.pyplot as plt    # For visualization\n",
    "import numpy as np                 # For linear algebra"
   ]
  },
  {
   "cell_type": "markdown",
   "metadata": {},
   "source": [
    "## Task 1\n",
    "\n",
    "Read the dataset and store the data in a Dataframe. Use time information as the index of this Dataframe. Note that the time information could be found in the second column (year-month-day-hour) of the csv file."
   ]
  },
  {
   "cell_type": "code",
   "execution_count": 2,
   "metadata": {},
   "outputs": [
    {
     "data": {
      "text/html": [
       "<div>\n",
       "<style scoped>\n",
       "    .dataframe tbody tr th:only-of-type {\n",
       "        vertical-align: middle;\n",
       "    }\n",
       "\n",
       "    .dataframe tbody tr th {\n",
       "        vertical-align: top;\n",
       "    }\n",
       "\n",
       "    .dataframe thead th {\n",
       "        text-align: right;\n",
       "    }\n",
       "</style>\n",
       "<table border=\"1\" class=\"dataframe\">\n",
       "  <thead>\n",
       "    <tr style=\"text-align: right;\">\n",
       "      <th></th>\n",
       "      <th>season</th>\n",
       "      <th>PM_Dongsi</th>\n",
       "      <th>PM_Dongsihuan</th>\n",
       "      <th>PM_Nongzhanguan</th>\n",
       "      <th>PM_US Post</th>\n",
       "      <th>DEWP</th>\n",
       "      <th>HUMI</th>\n",
       "      <th>PRES</th>\n",
       "      <th>TEMP</th>\n",
       "      <th>cbwd</th>\n",
       "      <th>Iws</th>\n",
       "      <th>precipitation</th>\n",
       "      <th>Iprec</th>\n",
       "    </tr>\n",
       "    <tr>\n",
       "      <th>year-month-day-hour</th>\n",
       "      <th></th>\n",
       "      <th></th>\n",
       "      <th></th>\n",
       "      <th></th>\n",
       "      <th></th>\n",
       "      <th></th>\n",
       "      <th></th>\n",
       "      <th></th>\n",
       "      <th></th>\n",
       "      <th></th>\n",
       "      <th></th>\n",
       "      <th></th>\n",
       "      <th></th>\n",
       "    </tr>\n",
       "  </thead>\n",
       "  <tbody>\n",
       "    <tr>\n",
       "      <th>2010-01-01 00:00:00</th>\n",
       "      <td>4</td>\n",
       "      <td>NaN</td>\n",
       "      <td>NaN</td>\n",
       "      <td>NaN</td>\n",
       "      <td>NaN</td>\n",
       "      <td>-21.0</td>\n",
       "      <td>43.0</td>\n",
       "      <td>1021.0</td>\n",
       "      <td>-11.0</td>\n",
       "      <td>NW</td>\n",
       "      <td>1.79</td>\n",
       "      <td>0.0</td>\n",
       "      <td>0.0</td>\n",
       "    </tr>\n",
       "    <tr>\n",
       "      <th>2010-01-01 01:00:00</th>\n",
       "      <td>4</td>\n",
       "      <td>NaN</td>\n",
       "      <td>NaN</td>\n",
       "      <td>NaN</td>\n",
       "      <td>NaN</td>\n",
       "      <td>-21.0</td>\n",
       "      <td>47.0</td>\n",
       "      <td>1020.0</td>\n",
       "      <td>-12.0</td>\n",
       "      <td>NW</td>\n",
       "      <td>4.92</td>\n",
       "      <td>0.0</td>\n",
       "      <td>0.0</td>\n",
       "    </tr>\n",
       "    <tr>\n",
       "      <th>2010-01-01 02:00:00</th>\n",
       "      <td>4</td>\n",
       "      <td>NaN</td>\n",
       "      <td>NaN</td>\n",
       "      <td>NaN</td>\n",
       "      <td>NaN</td>\n",
       "      <td>-21.0</td>\n",
       "      <td>43.0</td>\n",
       "      <td>1019.0</td>\n",
       "      <td>-11.0</td>\n",
       "      <td>NW</td>\n",
       "      <td>6.71</td>\n",
       "      <td>0.0</td>\n",
       "      <td>0.0</td>\n",
       "    </tr>\n",
       "    <tr>\n",
       "      <th>2010-01-01 03:00:00</th>\n",
       "      <td>4</td>\n",
       "      <td>NaN</td>\n",
       "      <td>NaN</td>\n",
       "      <td>NaN</td>\n",
       "      <td>NaN</td>\n",
       "      <td>-21.0</td>\n",
       "      <td>55.0</td>\n",
       "      <td>1019.0</td>\n",
       "      <td>-14.0</td>\n",
       "      <td>NW</td>\n",
       "      <td>9.84</td>\n",
       "      <td>0.0</td>\n",
       "      <td>0.0</td>\n",
       "    </tr>\n",
       "    <tr>\n",
       "      <th>2010-01-01 04:00:00</th>\n",
       "      <td>4</td>\n",
       "      <td>NaN</td>\n",
       "      <td>NaN</td>\n",
       "      <td>NaN</td>\n",
       "      <td>NaN</td>\n",
       "      <td>-20.0</td>\n",
       "      <td>51.0</td>\n",
       "      <td>1018.0</td>\n",
       "      <td>-12.0</td>\n",
       "      <td>NW</td>\n",
       "      <td>12.97</td>\n",
       "      <td>0.0</td>\n",
       "      <td>0.0</td>\n",
       "    </tr>\n",
       "  </tbody>\n",
       "</table>\n",
       "</div>"
      ],
      "text/plain": [
       "                     season  PM_Dongsi  PM_Dongsihuan  PM_Nongzhanguan  \\\n",
       "year-month-day-hour                                                      \n",
       "2010-01-01 00:00:00       4        NaN            NaN              NaN   \n",
       "2010-01-01 01:00:00       4        NaN            NaN              NaN   \n",
       "2010-01-01 02:00:00       4        NaN            NaN              NaN   \n",
       "2010-01-01 03:00:00       4        NaN            NaN              NaN   \n",
       "2010-01-01 04:00:00       4        NaN            NaN              NaN   \n",
       "\n",
       "                     PM_US Post  DEWP  HUMI    PRES  TEMP cbwd    Iws  \\\n",
       "year-month-day-hour                                                     \n",
       "2010-01-01 00:00:00         NaN -21.0  43.0  1021.0 -11.0   NW   1.79   \n",
       "2010-01-01 01:00:00         NaN -21.0  47.0  1020.0 -12.0   NW   4.92   \n",
       "2010-01-01 02:00:00         NaN -21.0  43.0  1019.0 -11.0   NW   6.71   \n",
       "2010-01-01 03:00:00         NaN -21.0  55.0  1019.0 -14.0   NW   9.84   \n",
       "2010-01-01 04:00:00         NaN -20.0  51.0  1018.0 -12.0   NW  12.97   \n",
       "\n",
       "                     precipitation  Iprec  \n",
       "year-month-day-hour                        \n",
       "2010-01-01 00:00:00            0.0    0.0  \n",
       "2010-01-01 01:00:00            0.0    0.0  \n",
       "2010-01-01 02:00:00            0.0    0.0  \n",
       "2010-01-01 03:00:00            0.0    0.0  \n",
       "2010-01-01 04:00:00            0.0    0.0  "
      ]
     },
     "execution_count": 2,
     "metadata": {},
     "output_type": "execute_result"
    }
   ],
   "source": [
    "# Load data and set the year-month-day-hour column as the index column\n",
    "data = pd.read_csv('BeijingPM20100101_20151231.csv')\n",
    "data['year-month-day-hour'] = pd.to_datetime(data['year-month-day-hour'], format='%Y-%m-%d-%H')\n",
    "data.set_index('year-month-day-hour', inplace=True) \n",
    "data.head()"
   ]
  },
  {
   "cell_type": "markdown",
   "metadata": {},
   "source": [
    "## Task 2\n",
    "\n",
    "Extract the PM_US_Post column and then store the data according to the year information (say, store each year’s data into a single Series variable)."
   ]
  },
  {
   "cell_type": "code",
   "execution_count": 3,
   "metadata": {},
   "outputs": [],
   "source": [
    "# Extract the PM_US_Post column\n",
    "PM_US_Post = data[\"PM_US Post\"]\n",
    "\n",
    "#  store each year’s data into a single Series variable (Can you use a for loop to do this step?)\n",
    "PM_US_Post_2010 = PM_US_Post['2010']\n",
    "PM_US_Post_2011 = PM_US_Post['2011']\n",
    "PM_US_Post_2012 = PM_US_Post['2012']\n",
    "PM_US_Post_2013 = PM_US_Post['2013']\n",
    "PM_US_Post_2014 = PM_US_Post['2014']\n",
    "PM_US_Post_2015 = PM_US_Post['2015']"
   ]
  },
  {
   "cell_type": "markdown",
   "metadata": {},
   "source": [
    "## Task 3\n",
    "\n",
    "Extract the data in March of each year."
   ]
  },
  {
   "cell_type": "code",
   "execution_count": 4,
   "metadata": {},
   "outputs": [],
   "source": [
    "# (Can you use a for loop to do this step?)\n",
    "PM_US_Post_2010_March = PM_US_Post['2010-03']\n",
    "PM_US_Post_2011_March = PM_US_Post['2011-03']\n",
    "PM_US_Post_2012_March = PM_US_Post['2012-03']\n",
    "PM_US_Post_2013_March = PM_US_Post['2013-03']\n",
    "PM_US_Post_2014_March = PM_US_Post['2014-03']\n",
    "PM_US_Post_2015_March = PM_US_Post['2015-03']"
   ]
  },
  {
   "cell_type": "markdown",
   "metadata": {},
   "source": [
    "## Task 4\n",
    "\n",
    "Calculate the mean value of each March's data, and then plot these mean value by using a line curve."
   ]
  },
  {
   "cell_type": "code",
   "execution_count": 5,
   "metadata": {},
   "outputs": [
    {
     "data": {
      "image/png": "[encoded data removed]",
      "text/plain": [
       "<Figure size 1500x600 with 1 Axes>"
      ]
     },
     "metadata": {},
     "output_type": "display_data"
    }
   ],
   "source": [
    "# Calculate the mean value of each March's data (Can you use a for loop to do this step?)\n",
    "PM_US_Post_2010_March_mean = PM_US_Post_2010_March.mean()\n",
    "PM_US_Post_2011_March_mean = PM_US_Post_2011_March.mean()\n",
    "PM_US_Post_2012_March_mean = PM_US_Post_2012_March.mean()\n",
    "PM_US_Post_2013_March_mean = PM_US_Post_2013_March.mean()\n",
    "PM_US_Post_2014_March_mean = PM_US_Post_2014_March.mean()\n",
    "PM_US_Post_2015_March_mean = PM_US_Post_2015_March.mean()\n",
    "\n",
    "# Plot these mean value by using a line curve.\n",
    "index = pd.DatetimeIndex(['2010','2011', '2012', '2013', '2014', '2015'])\n",
    "PM_03_data = pd.Series([PM_US_Post_2010_March_mean,\n",
    "                        PM_US_Post_2011_March_mean,\n",
    "                        PM_US_Post_2012_March_mean,\n",
    "                        PM_US_Post_2013_March_mean,\n",
    "                        PM_US_Post_2014_March_mean,\n",
    "                        PM_US_Post_2015_March_mean], index=index)\n",
    "plt.figure(figsize=(15,6))\n",
    "plt.plot(PM_03_data)\n",
    "plt.xlabel('Month')\n",
    "plt.ylabel('PM-2.5 index')\n",
    "plt.title('Montly PM-2.5 index in Beijing')\n",
    "plt.show()"
   ]
  },
  {
   "cell_type": "code",
   "execution_count": null,
   "metadata": {},
   "outputs": [],
   "source": []
  },
  {
   "cell_type": "code",
   "execution_count": null,
   "metadata": {},
   "outputs": [],
   "source": []
  }
 ],
 "metadata": {
  "kernelspec": {
   "display_name": "Python 3",
   "language": "python",
   "name": "python3"
  },
  "language_info": {
   "codemirror_mode": {
    "name": "ipython",
    "version": 3
   },
   "file_extension": ".py",
   "mimetype": "text/x-python",
   "name": "python",
   "nbconvert_exporter": "python",
   "pygments_lexer": "ipython3",
   "version": "3.7.4"
  }
 },
 "nbformat": 4,
 "nbformat_minor": 2
}
